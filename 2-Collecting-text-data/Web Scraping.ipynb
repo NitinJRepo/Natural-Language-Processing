{
 "cells": [
  {
   "cell_type": "markdown",
   "metadata": {},
   "source": [
    "\n",
    "<center><u><H1>Web Scraping</H1></u></center>\n",
    "<br><br>\n",
    "<h4><p>Web scraping is a process of automating the extraction of data in an efficient and fast way. With the help of web scraping, you can extract data from any website, no matter how large is the data, on your computer.</p>\n",
    "\n",
    "<p>Moreover, websites may have data that you cannot copy and paste. Web scraping can help you extract any kind of data that you want.</p>\n",
    "\n",
    "<p>That’s not enough. Let’s say, you copy and paste some data but how to convert or save it in a format of your choice?</p>\n",
    "\n",
    "<p>Web scraping takes care of that too. When you extract web data with the help of a web scraping too, you would be able to save the data in a format such as CSV. You would then be able to retrieve, analyze and use the data the way you want.</p><h4>"
   ]
  },
  {
   "cell_type": "markdown",
   "metadata": {},
   "source": [
    "## Install instructions:\n",
    "### - pip install beautifulsoup4\n",
    "### - pip install lxml\n",
    "### - pip install html5lib"
   ]
  },
  {
   "cell_type": "code",
   "execution_count": 1,
   "metadata": {},
   "outputs": [],
   "source": [
    "import urllib\n",
    "import re\n",
    "%matplotlib inline"
   ]
  },
  {
   "cell_type": "code",
   "execution_count": null,
   "metadata": {},
   "outputs": [],
   "source": [
    "# https://www.crummy.com/software/BeautifulSoup/bs4/doc/"
   ]
  },
  {
   "cell_type": "code",
   "execution_count": 2,
   "metadata": {},
   "outputs": [],
   "source": [
    "url = 'https://www.crummy.com/software/BeautifulSoup/bs4/doc/'"
   ]
  },
  {
   "cell_type": "code",
   "execution_count": 5,
   "metadata": {},
   "outputs": [],
   "source": [
    "web = urllib.request.Request(url)"
   ]
  },
  {
   "cell_type": "code",
   "execution_count": 6,
   "metadata": {},
   "outputs": [],
   "source": [
    "resp = urllib.request.urlopen(web)"
   ]
  },
  {
   "cell_type": "code",
   "execution_count": 7,
   "metadata": {},
   "outputs": [],
   "source": [
    "html = resp.read()"
   ]
  },
  {
   "cell_type": "code",
   "execution_count": 8,
   "metadata": {},
   "outputs": [
    {
     "name": "stdout",
     "output_type": "stream",
     "text": [
      "286254\n"
     ]
    }
   ],
   "source": [
    "print(len(html))"
   ]
  },
  {
   "cell_type": "code",
   "execution_count": 9,
   "metadata": {},
   "outputs": [],
   "source": [
    "#Let's start an exploratory data analysis cleaning the html tags.\n",
    "#Splitting the string. \n",
    "tokens = [t for t in html.split()]"
   ]
  },
  {
   "cell_type": "code",
   "execution_count": 10,
   "metadata": {},
   "outputs": [
    {
     "name": "stdout",
     "output_type": "stream",
     "text": [
      "Total number of tokens:21723\n"
     ]
    }
   ],
   "source": [
    "print(\"Total number of tokens:\" + str(len(tokens)))"
   ]
  },
  {
   "cell_type": "code",
   "execution_count": 11,
   "metadata": {},
   "outputs": [
    {
     "name": "stdout",
     "output_type": "stream",
     "text": [
      "[b'<!DOCTYPE', b'html', b'PUBLIC', b'\"-//W3C//DTD', b'XHTML', b'1.0', b'Transitional//EN\"', b'\"http://www.w3.org/TR/xhtml1/DTD/xhtml1-transitional.dtd\">', b'<html', b'xmlns=\"http://www.w3.org/1999/xhtml\">', b'<head>', b'<meta', b'http-equiv=\"Content-Type\"', b'content=\"text/html;', b'charset=utf-8\"', b'/>', b'<title>Beautiful', b'Soup', b'Documentation', b'&mdash;', b'Beautiful', b'Soup', b'4.4.0', b'documentation</title>', b'<link', b'rel=\"stylesheet\"', b'href=\"_static/classic.css\"', b'type=\"text/css\"', b'/>', b'<link', b'rel=\"stylesheet\"', b'href=\"_static/pygments.css\"', b'type=\"text/css\"', b'/>', b'<script', b'type=\"text/javascript\">', b'var', b'DOCUMENTATION_OPTIONS', b'=', b'{', b'URL_ROOT:', b\"'./',\", b'VERSION:', b\"'4.4.0',\", b'COLLAPSE_INDEX:', b'false,', b'FILE_SUFFIX:', b\"'.html',\", b'HAS_SOURCE:', b'true', b'};', b'</script>', b'<script', b'type=\"text/javascript\"', b'src=\"_static/jquery.js\"></script>', b'<script', b'type=\"text/javascript\"', b'src=\"_static/underscore.js\"></script>', b'<script', b'type=\"text/javascript\"', b'src=\"_static/doctools.js\"></script>', b'<link', b'rel=\"top\"', b'title=\"Beautiful', b'Soup', b'4.4.0', b'documentation\"', b'href=\"#\"', b'/>', b'</head>', b'<body', b'role=\"document\">', b'<div', b'class=\"related\"', b'role=\"navigation\"', b'aria-label=\"related', b'navigation\">', b'<h3>Navigation</h3>', b'<ul>', b'<li', b'class=\"right\"', b'style=\"margin-right:', b'10px\">', b'<a', b'href=\"genindex.html\"', b'title=\"General', b'Index\"', b'accesskey=\"I\">index</a></li>', b'<li', b'class=\"nav-item', b'nav-item-0\"><a', b'href=\"#\">Beautiful', b'Soup', b'4.4.0', b'documentation</a>', b'&raquo;</li>', b'</ul>', b'</div>', b'<div', b'class=\"document\">']\n"
     ]
    }
   ],
   "source": [
    "print(tokens[:100])"
   ]
  },
  {
   "cell_type": "code",
   "execution_count": 12,
   "metadata": {},
   "outputs": [],
   "source": [
    "#extracting paragraphs with a regular expression (better than previous one):\n",
    "paragraphs = re.findall(r'<p>(.*?)</p>',str(html))"
   ]
  },
  {
   "cell_type": "code",
   "execution_count": 13,
   "metadata": {},
   "outputs": [
    {
     "name": "stdout",
     "output_type": "stream",
     "text": [
      "<a class=\"reference external\" href=\"http://www.crummy.com/software/BeautifulSoup/\">Beautiful Soup</a> is a\\nPython library for pulling data out of HTML and XML files. It works\\nwith your favorite parser to provide idiomatic ways of navigating,\\nsearching, and modifying the parse tree. It commonly saves programmers\\nhours or days of work.\n",
      "These instructions illustrate all major features of Beautiful Soup 4,\\nwith examples. I show you what the library is good for, how it works,\\nhow to use it, how to make it do what you want, and what to do when it\\nviolates your expectations.\n",
      "The examples in this documentation should work the same way in Python\\n2.7 and Python 3.2.\n",
      "You might be looking for the documentation for <a class=\"reference external\" href=\"http://www.crummy.com/software/BeautifulSoup/bs3/documentation.html\">Beautiful Soup 3</a>.\\nIf so, you should know that Beautiful Soup 3 is no longer being\\ndeveloped, and that Beautiful Soup 4 is recommended for all new\\nprojects. If you want to learn about the differences between Beautiful\\nSoup 3 and Beautiful Soup 4, see <a class=\"reference internal\" href=\"#porting-code-to-bs4\">Porting code to BS4</a>.\n",
      "This documentation has been translated into other languages by\\nBeautiful Soup users:\n",
      "If you have questions about Beautiful Soup, or run into problems,\\n<a class=\"reference external\" href=\"https://groups.google.com/forum/?fromgroups#!forum/beautifulsoup\">send mail to the discussion group</a>. If\\nyour problem involves parsing an HTML document, be sure to mention\\n<a class=\"reference internal\" href=\"#diagnose\"><span>what the diagnose() function says</span></a> about\\nthat document.\n",
      "Here&#8217;s an HTML document I&#8217;ll be using as an example throughout this\\ndocument. It&#8217;s part of a story from <cite>Alice in Wonderland</cite>:\n",
      "Running the &#8220;three sisters&#8221; document through Beautiful Soup gives us a\\n<code class=\"docutils literal\"><span class=\"pre\">BeautifulSoup</span></code> object, which represents the document as a nested\\ndata structure:\n",
      "Here are some simple ways to navigate that data structure:\n",
      "One common task is extracting all the URLs found within a page&#8217;s &lt;a&gt; tags:\n",
      "Another common task is extracting all the text from a page:\n",
      "Does this look like what you need? If so, read on.\n",
      "If you&#8217;re using a recent version of Debian or Ubuntu Linux, you can\\ninstall Beautiful Soup with the system package manager:\n",
      "<code class=\"kbd docutils literal\"><span class=\"pre\">$</span> <span class=\"pre\">apt-get</span> <span class=\"pre\">install</span> <span class=\"pre\">python-bs4</span></code> (for Python 2)\n",
      "<code class=\"kbd docutils literal\"><span class=\"pre\">$</span> <span class=\"pre\">apt-get</span> <span class=\"pre\">install</span> <span class=\"pre\">python3-bs4</span></code> (for Python 3)\n",
      "Beautiful Soup 4 is published through PyPi, so if you can&#8217;t install it\\nwith the system packager, you can install it with <code class=\"docutils literal\"><span class=\"pre\">easy_install</span></code> or\\n<code class=\"docutils literal\"><span class=\"pre\">pip</span></code>. The package name is <code class=\"docutils literal\"><span class=\"pre\">beautifulsoup4</span></code>, and the same package\\nworks on Python 2 and Python 3. Make sure you use the right version of\\n<code class=\"docutils literal\"><span class=\"pre\">pip</span></code> or <code class=\"docutils literal\"><span class=\"pre\">easy_install</span></code> for your Python version (these may be named\\n<code class=\"docutils literal\"><span class=\"pre\">pip3</span></code> and <code class=\"docutils literal\"><span class=\"pre\">easy_install3</span></code> respectively if you&#8217;re using Python 3).\n",
      "<code class=\"kbd docutils literal\"><span class=\"pre\">$</span> <span class=\"pre\">easy_install</span> <span class=\"pre\">beautifulsoup4</span></code>\n",
      "<code class=\"kbd docutils literal\"><span class=\"pre\">$</span> <span class=\"pre\">pip</span> <span class=\"pre\">install</span> <span class=\"pre\">beautifulsoup4</span></code>\n",
      "(The <code class=\"docutils literal\"><span class=\"pre\">BeautifulSoup</span></code> package is probably <cite>not</cite> what you want. That&#8217;s\\nthe previous major release, <a class=\"reference external\" href=\"http://www.crummy.com/software/BeautifulSoup/bs3/documentation.html\">Beautiful Soup 3</a>. Lots of software uses\\nBS3, so it&#8217;s still available, but if you&#8217;re writing new code you\\nshould install <code class=\"docutils literal\"><span class=\"pre\">beautifulsoup4</span></code>.)\n",
      "If you don&#8217;t have <code class=\"docutils literal\"><span class=\"pre\">easy_install</span></code> or <code class=\"docutils literal\"><span class=\"pre\">pip</span></code> installed, you can\\n<a class=\"reference external\" href=\"http://www.crummy.com/software/BeautifulSoup/download/4.x/\">download the Beautiful Soup 4 source tarball</a> and\\ninstall it with <code class=\"docutils literal\"><span class=\"pre\">setup.py</span></code>.\n",
      "<code class=\"kbd docutils literal\"><span class=\"pre\">$</span> <span class=\"pre\">python</span> <span class=\"pre\">setup.py</span> <span class=\"pre\">install</span></code>\n",
      "If all else fails, the license for Beautiful Soup allows you to\\npackage the entire library with your application. You can download the\\ntarball, copy its <code class=\"docutils literal\"><span class=\"pre\">bs4</span></code> directory into your application&#8217;s codebase,\\nand use Beautiful Soup without installing it at all.\n",
      "I use Python 2.7 and Python 3.2 to develop Beautiful Soup, but it\\nshould work with other recent versions.\n",
      "Beautiful Soup is packaged as Python 2 code. When you install it for\\nuse with Python 3, it&#8217;s automatically converted to Python 3 code. If\\nyou don&#8217;t install the package, the code won&#8217;t be converted. There have\\nalso been reports on Windows machines of the wrong version being\\ninstalled.\n",
      "If you get the <code class=\"docutils literal\"><span class=\"pre\">ImportError</span></code> &#8220;No module named HTMLParser&#8221;, your\\nproblem is that you&#8217;re running the Python 2 version of the code under\\nPython 3.\n",
      "If you get the <code class=\"docutils literal\"><span class=\"pre\">ImportError</span></code> &#8220;No module named html.parser&#8221;, your\\nproblem is that you&#8217;re running the Python 3 version of the code under\\nPython 2.\n",
      "In both cases, your best bet is to completely remove the Beautiful\\nSoup installation from your system (including any directory created\\nwhen you unzipped the tarball) and try the installation again.\n",
      "If you get the <code class=\"docutils literal\"><span class=\"pre\">SyntaxError</span></code> &#8220;Invalid syntax&#8221; on the line\\n<code class=\"docutils literal\"><span class=\"pre\">ROOT_TAG_NAME</span> <span class=\"pre\">=</span> <span class=\"pre\">u\\'[document]\\'</span></code>, you need to convert the Python 2\\ncode to Python 3. You can do this either by installing the package:\n",
      "<code class=\"kbd docutils literal\"><span class=\"pre\">$</span> <span class=\"pre\">python3</span> <span class=\"pre\">setup.py</span> <span class=\"pre\">install</span></code>\n",
      "or by manually running Python&#8217;s <code class=\"docutils literal\"><span class=\"pre\">2to3</span></code> conversion script on the\\n<code class=\"docutils literal\"><span class=\"pre\">bs4</span></code> directory:\n",
      "<code class=\"kbd docutils literal\"><span class=\"pre\">$</span> <span class=\"pre\">2to3-3.2</span> <span class=\"pre\">-w</span> <span class=\"pre\">bs4</span></code>\n",
      "Beautiful Soup supports the HTML parser included in Python&#8217;s standard\\nlibrary, but it also supports a number of third-party Python parsers.\\nOne is the <a class=\"reference external\" href=\"http://lxml.de/\">lxml parser</a>. Depending on your setup,\\nyou might install lxml with one of these commands:\n",
      "<code class=\"kbd docutils literal\"><span class=\"pre\">$</span> <span class=\"pre\">apt-get</span> <span class=\"pre\">install</span> <span class=\"pre\">python-lxml</span></code>\n",
      "<code class=\"kbd docutils literal\"><span class=\"pre\">$</span> <span class=\"pre\">easy_install</span> <span class=\"pre\">lxml</span></code>\n",
      "<code class=\"kbd docutils literal\"><span class=\"pre\">$</span> <span class=\"pre\">pip</span> <span class=\"pre\">install</span> <span class=\"pre\">lxml</span></code>\n",
      "Another alternative is the pure-Python <a class=\"reference external\" href=\"http://code.google.com/p/html5lib/\">html5lib parser</a>, which parses HTML the way a\\nweb browser does. Depending on your setup, you might install html5lib\\nwith one of these commands:\n",
      "<code class=\"kbd docutils literal\"><span class=\"pre\">$</span> <span class=\"pre\">apt-get</span> <span class=\"pre\">install</span> <span class=\"pre\">python-html5lib</span></code>\n",
      "<code class=\"kbd docutils literal\"><span class=\"pre\">$</span> <span class=\"pre\">easy_install</span> <span class=\"pre\">html5lib</span></code>\n",
      "<code class=\"kbd docutils literal\"><span class=\"pre\">$</span> <span class=\"pre\">pip</span> <span class=\"pre\">install</span> <span class=\"pre\">html5lib</span></code>\n",
      "This table summarizes the advantages and disadvantages of each parser library:\n",
      "If you can, I recommend you install and use lxml for speed. If you&#8217;re\\nusing a version of Python 2 earlier than 2.7.3, or a version of Python\\n3 earlier than 3.2.2, it&#8217;s <cite>essential</cite> that you install lxml or\\nhtml5lib&#8211;Python&#8217;s built-in HTML parser is just not very good in older\\nversions.\n",
      "Note that if a document is invalid, different parsers will generate\\ndifferent Beautiful Soup trees for it. See <a class=\"reference internal\" href=\"#differences-between-parsers\">Differences\\nbetween parsers</a> for details.\n",
      "To parse a document, pass it into the <code class=\"docutils literal\"><span class=\"pre\">BeautifulSoup</span></code>\\nconstructor. You can pass in a string or an open filehandle:\n",
      "First, the document is converted to Unicode, and HTML entities are\\nconverted to Unicode characters:\n",
      "Beautiful Soup then parses the document using the best available\\nparser. It will use an HTML parser unless you specifically tell it to\\nuse an XML parser. (See <a class=\"reference internal\" href=\"#id16\">Parsing XML</a>.)\n",
      "Beautiful Soup transforms a complex HTML document into a complex tree\\nof Python objects. But you&#8217;ll only ever have to deal with about four\\n<cite>kinds</cite> of objects: <code class=\"docutils literal\"><span class=\"pre\">Tag</span></code>, <code class=\"docutils literal\"><span class=\"pre\">NavigableString</span></code>, <code class=\"docutils literal\"><span class=\"pre\">BeautifulSoup</span></code>,\\nand <code class=\"docutils literal\"><span class=\"pre\">Comment</span></code>.\n",
      "A <code class=\"docutils literal\"><span class=\"pre\">Tag</span></code> object corresponds to an XML or HTML tag in the original document:\n",
      "Tags have a lot of attributes and methods, and I&#8217;ll cover most of them\\nin <a class=\"reference internal\" href=\"#navigating-the-tree\">Navigating the tree</a> and <a class=\"reference internal\" href=\"#searching-the-tree\">Searching the tree</a>. For now, the most\\nimportant features of a tag are its name and attributes.\n",
      "Every tag has a name, accessible as <code class=\"docutils literal\"><span class=\"pre\">.name</span></code>:\n",
      "If you change a tag&#8217;s name, the change will be reflected in any HTML\\nmarkup generated by Beautiful Soup:\n",
      "A tag may have any number of attributes. The tag <code class=\"docutils literal\"><span class=\"pre\">&lt;b</span>\\n<span class=\"pre\">id=&quot;boldest&quot;&gt;</span></code> has an attribute &#8220;id&#8221; whose value is\\n&#8220;boldest&#8221;. You can access a tag&#8217;s attributes by treating the tag like\\na dictionary:\n",
      "You can access that dictionary directly as <code class=\"docutils literal\"><span class=\"pre\">.attrs</span></code>:\n",
      "You can add, remove, and modify a tag&#8217;s attributes. Again, this is\\ndone by treating the tag as a dictionary:\n",
      "HTML 4 defines a few attributes that can have multiple values. HTML 5\\nremoves a couple of them, but defines a few more. The most common\\nmulti-valued attribute is <code class=\"docutils literal\"><span class=\"pre\">class</span></code> (that is, a tag can have more than\\none CSS class). Others include <code class=\"docutils literal\"><span class=\"pre\">rel</span></code>, <code class=\"docutils literal\"><span class=\"pre\">rev</span></code>, <code class=\"docutils literal\"><span class=\"pre\">accept-charset</span></code>,\\n<code class=\"docutils literal\"><span class=\"pre\">headers</span></code>, and <code class=\"docutils literal\"><span class=\"pre\">accesskey</span></code>. Beautiful Soup presents the value(s)\\nof a multi-valued attribute as a list:\n",
      "If an attribute <cite>looks</cite> like it has more than one value, but it&#8217;s not\\na multi-valued attribute as defined by any version of the HTML\\nstandard, Beautiful Soup will leave the attribute alone:\n",
      "When you turn a tag back into a string, multiple attribute values are\\nconsolidated:\n",
      "You can use <code class=\"docutils literal\"><span class=\"pre\">`get_attribute_list</span></code> to get a value that&#8217;s always a list,\\nstring, whether or not it&#8217;s a multi-valued atribute\n",
      "If you parse a document as XML, there are no multi-valued attributes:\n",
      "A string corresponds to a bit of text within a tag. Beautiful Soup\\nuses the <code class=\"docutils literal\"><span class=\"pre\">NavigableString</span></code> class to contain these bits of text:\n",
      "A <code class=\"docutils literal\"><span class=\"pre\">NavigableString</span></code> is just like a Python Unicode string, except\\nthat it also supports some of the features described in <a class=\"reference internal\" href=\"#navigating-the-tree\">Navigating\\nthe tree</a> and <a class=\"reference internal\" href=\"#searching-the-tree\">Searching the tree</a>. You can convert a\\n<code class=\"docutils literal\"><span class=\"pre\">NavigableString</span></code> to a Unicode string with <code class=\"docutils literal\"><span class=\"pre\">unicode()</span></code>:\n",
      "You can&#8217;t edit a string in place, but you can replace one string with\\nanother, using <a class=\"reference internal\" href=\"#replace-with\"><span>replace_with()</span></a>:\n",
      "<code class=\"docutils literal\"><span class=\"pre\">NavigableString</span></code> supports most of the features described in\\n<a class=\"reference internal\" href=\"#navigating-the-tree\">Navigating the tree</a> and <a class=\"reference internal\" href=\"#searching-the-tree\">Searching the tree</a>, but not all of\\nthem. In particular, since a string can&#8217;t contain anything (the way a\\ntag may contain a string or another tag), strings don&#8217;t support the\\n<code class=\"docutils literal\"><span class=\"pre\">.contents</span></code> or <code class=\"docutils literal\"><span class=\"pre\">.string</span></code> attributes, or the <code class=\"docutils literal\"><span class=\"pre\">find()</span></code> method.\n",
      "If you want to use a <code class=\"docutils literal\"><span class=\"pre\">NavigableString</span></code> outside of Beautiful Soup,\\nyou should call <code class=\"docutils literal\"><span class=\"pre\">unicode()</span></code> on it to turn it into a normal Python\\nUnicode string. If you don&#8217;t, your string will carry around a\\nreference to the entire Beautiful Soup parse tree, even when you&#8217;re\\ndone using Beautiful Soup. This is a big waste of memory.\n",
      "The <code class=\"docutils literal\"><span class=\"pre\">BeautifulSoup</span></code> object itself represents the document as a\\nwhole. For most purposes, you can treat it as a <a class=\"reference internal\" href=\"#tag\"><span>Tag</span></a>\\nobject. This means it supports most of the methods described in\\n<a class=\"reference internal\" href=\"#navigating-the-tree\">Navigating the tree</a> and <a class=\"reference internal\" href=\"#searching-the-tree\">Searching the tree</a>.\n",
      "Since the <code class=\"docutils literal\"><span class=\"pre\">BeautifulSoup</span></code> object doesn&#8217;t correspond to an actual\\nHTML or XML tag, it has no name and no attributes. But sometimes it&#8217;s\\nuseful to look at its <code class=\"docutils literal\"><span class=\"pre\">.name</span></code>, so it&#8217;s been given the special\\n<code class=\"docutils literal\"><span class=\"pre\">.name</span></code> &#8220;[document]&#8221;:\n",
      "<code class=\"docutils literal\"><span class=\"pre\">Tag</span></code>, <code class=\"docutils literal\"><span class=\"pre\">NavigableString</span></code>, and <code class=\"docutils literal\"><span class=\"pre\">BeautifulSoup</span></code> cover almost\\neverything you&#8217;ll see in an HTML or XML file, but there are a few\\nleftover bits. The only one you&#8217;ll probably ever need to worry about\\nis the comment:\n",
      "The <code class=\"docutils literal\"><span class=\"pre\">Comment</span></code> object is just a special type of <code class=\"docutils literal\"><span class=\"pre\">NavigableString</span></code>:\n",
      "But when it appears as part of an HTML document, a <code class=\"docutils literal\"><span class=\"pre\">Comment</span></code> is\\ndisplayed with special formatting:\n",
      "Beautiful Soup defines classes for anything else that might show up in\\nan XML document: <code class=\"docutils literal\"><span class=\"pre\">CData</span></code>, <code class=\"docutils literal\"><span class=\"pre\">ProcessingInstruction</span></code>,\\n<code class=\"docutils literal\"><span class=\"pre\">Declaration</span></code>, and <code class=\"docutils literal\"><span class=\"pre\">Doctype</span></code>. Just like <code class=\"docutils literal\"><span class=\"pre\">Comment</span></code>, these classes\\nare subclasses of <code class=\"docutils literal\"><span class=\"pre\">NavigableString</span></code> that add something extra to the\\nstring. Here&#8217;s an example that replaces the comment with a CDATA\\nblock:\n",
      "Here&#8217;s the &#8220;Three sisters&#8221; HTML document again:\n",
      "I&#8217;ll use this as an example to show you how to move from one part of\\na document to another.\n",
      "Tags may contain strings and other tags. These elements are the tag&#8217;s\\n<cite>children</cite>. Beautiful Soup provides a lot of different attributes for\\nnavigating and iterating over a tag&#8217;s children.\n",
      "Note that Beautiful Soup strings don&#8217;t support any of these\\nattributes, because a string can&#8217;t have children.\n",
      "The simplest way to navigate the parse tree is to say the name of the\\ntag you want. If you want the &lt;head&gt; tag, just say <code class=\"docutils literal\"><span class=\"pre\">soup.head</span></code>:\n",
      "You can do use this trick again and again to zoom in on a certain part\\nof the parse tree. This code gets the first &lt;b&gt; tag beneath the &lt;body&gt; tag:\n",
      "Using a tag name as an attribute will give you only the <cite>first</cite> tag by that\\nname:\n",
      "If you need to get <cite>all</cite> the &lt;a&gt; tags, or anything more complicated\\nthan the first tag with a certain name, you&#8217;ll need to use one of the\\nmethods described in <a class=\"reference internal\" href=\"#searching-the-tree\">Searching the tree</a>, such as <cite>find_all()</cite>:\n",
      "A tag&#8217;s children are available in a list called <code class=\"docutils literal\"><span class=\"pre\">.contents</span></code>:\n",
      "The <code class=\"docutils literal\"><span class=\"pre\">BeautifulSoup</span></code> object itself has children. In this case, the\\n&lt;html&gt; tag is the child of the <code class=\"docutils literal\"><span class=\"pre\">BeautifulSoup</span></code> object.:\n",
      "A string does not have <code class=\"docutils literal\"><span class=\"pre\">.contents</span></code>, because it can&#8217;t contain\\nanything:\n",
      "Instead of getting them as a list, you can iterate over a tag&#8217;s\\nchildren using the <code class=\"docutils literal\"><span class=\"pre\">.children</span></code> generator:\n",
      "The <code class=\"docutils literal\"><span class=\"pre\">.contents</span></code> and <code class=\"docutils literal\"><span class=\"pre\">.children</span></code> attributes only consider a tag&#8217;s\\n<cite>direct</cite> children. For instance, the &lt;head&gt; tag has a single direct\\nchild&#8211;the &lt;title&gt; tag:\n",
      "But the &lt;title&gt; tag itself has a child: the string &#8220;The Dormouse&#8217;s\\nstory&#8221;. There&#8217;s a sense in which that string is also a child of the\\n&lt;head&gt; tag. The <code class=\"docutils literal\"><span class=\"pre\">.descendants</span></code> attribute lets you iterate over <cite>all</cite>\\nof a tag&#8217;s children, recursively: its direct children, the children of\\nits direct children, and so on:\n",
      "The &lt;head&gt; tag has only one child, but it has two descendants: the\\n&lt;title&gt; tag and the &lt;title&gt; tag&#8217;s child. The <code class=\"docutils literal\"><span class=\"pre\">BeautifulSoup</span></code> object\\nonly has one direct child (the &lt;html&gt; tag), but it has a whole lot of\\ndescendants:\n",
      "If a tag has only one child, and that child is a <code class=\"docutils literal\"><span class=\"pre\">NavigableString</span></code>,\\nthe child is made available as <code class=\"docutils literal\"><span class=\"pre\">.string</span></code>:\n",
      "If a tag&#8217;s only child is another tag, and <cite>that</cite> tag has a\\n<code class=\"docutils literal\"><span class=\"pre\">.string</span></code>, then the parent tag is considered to have the same\\n<code class=\"docutils literal\"><span class=\"pre\">.string</span></code> as its child:\n",
      "If a tag contains more than one thing, then it&#8217;s not clear what\\n<code class=\"docutils literal\"><span class=\"pre\">.string</span></code> should refer to, so <code class=\"docutils literal\"><span class=\"pre\">.string</span></code> is defined to be\\n<code class=\"docutils literal\"><span class=\"pre\">None</span></code>:\n",
      "If there&#8217;s more than one thing inside a tag, you can still look at\\njust the strings. Use the <code class=\"docutils literal\"><span class=\"pre\">.strings</span></code> generator:\n",
      "These strings tend to have a lot of extra whitespace, which you can\\nremove by using the <code class=\"docutils literal\"><span class=\"pre\">.stripped_strings</span></code> generator instead:\n",
      "Here, strings consisting entirely of whitespace are ignored, and\\nwhitespace at the beginning and end of strings is removed.\n",
      "Continuing the &#8220;family tree&#8221; analogy, every tag and every string has a\\n<cite>parent</cite>: the tag that contains it.\n",
      "You can access an element&#8217;s parent with the <code class=\"docutils literal\"><span class=\"pre\">.parent</span></code> attribute. In\\nthe example &#8220;three sisters&#8221; document, the &lt;head&gt; tag is the parent\\nof the &lt;title&gt; tag:\n",
      "The title string itself has a parent: the &lt;title&gt; tag that contains\\nit:\n",
      "The parent of a top-level tag like &lt;html&gt; is the <code class=\"docutils literal\"><span class=\"pre\">BeautifulSoup</span></code> object\\nitself:\n",
      "And the <code class=\"docutils literal\"><span class=\"pre\">.parent</span></code> of a <code class=\"docutils literal\"><span class=\"pre\">BeautifulSoup</span></code> object is defined as None:\n",
      "You can iterate over all of an element&#8217;s parents with\\n<code class=\"docutils literal\"><span class=\"pre\">.parents</span></code>. This example uses <code class=\"docutils literal\"><span class=\"pre\">.parents</span></code> to travel from an &lt;a&gt; tag\\nburied deep within the document, to the very top of the document:\n",
      "Consider a simple document like this:\n",
      "The &lt;b&gt; tag and the &lt;c&gt; tag are at the same level: they&#8217;re both direct\\nchildren of the same tag. We call them <cite>siblings</cite>. When a document is\\npretty-printed, siblings show up at the same indentation level. You\\ncan also use this relationship in the code you write.\n",
      "You can use <code class=\"docutils literal\"><span class=\"pre\">.next_sibling</span></code> and <code class=\"docutils literal\"><span class=\"pre\">.previous_sibling</span></code> to navigate\\nbetween page elements that are on the same level of the parse tree:\n",
      "The &lt;b&gt; tag has a <code class=\"docutils literal\"><span class=\"pre\">.next_sibling</span></code>, but no <code class=\"docutils literal\"><span class=\"pre\">.previous_sibling</span></code>,\\nbecause there&#8217;s nothing before the &lt;b&gt; tag <cite>on the same level of the\\ntree</cite>. For the same reason, the &lt;c&gt; tag has a <code class=\"docutils literal\"><span class=\"pre\">.previous_sibling</span></code>\\nbut no <code class=\"docutils literal\"><span class=\"pre\">.next_sibling</span></code>:\n",
      "The strings &#8220;text1&#8221; and &#8220;text2&#8221; are <cite>not</cite> siblings, because they don&#8217;t\\nhave the same parent:\n",
      "In real documents, the <code class=\"docutils literal\"><span class=\"pre\">.next_sibling</span></code> or <code class=\"docutils literal\"><span class=\"pre\">.previous_sibling</span></code> of a\\ntag will usually be a string containing whitespace. Going back to the\\n&#8220;three sisters&#8221; document:\n",
      "You might think that the <code class=\"docutils literal\"><span class=\"pre\">.next_sibling</span></code> of the first &lt;a&gt; tag would\\nbe the second &lt;a&gt; tag. But actually, it&#8217;s a string: the comma and\\nnewline that separate the first &lt;a&gt; tag from the second:\n",
      "The second &lt;a&gt; tag is actually the <code class=\"docutils literal\"><span class=\"pre\">.next_sibling</span></code> of the comma:\n",
      "You can iterate over a tag&#8217;s siblings with <code class=\"docutils literal\"><span class=\"pre\">.next_siblings</span></code> or\\n<code class=\"docutils literal\"><span class=\"pre\">.previous_siblings</span></code>:\n",
      "Take a look at the beginning of the &#8220;three sisters&#8221; document:\n",
      "An HTML parser takes this string of characters and turns it into a\\nseries of events: &#8220;open an &lt;html&gt; tag&#8221;, &#8220;open a &lt;head&gt; tag&#8221;, &#8220;open a\\n&lt;title&gt; tag&#8221;, &#8220;add a string&#8221;, &#8220;close the &lt;title&gt; tag&#8221;, &#8220;open a &lt;p&gt;\\ntag&#8221;, and so on. Beautiful Soup offers tools for reconstructing the\\ninitial parse of the document.\n",
      "The <code class=\"docutils literal\"><span class=\"pre\">.next_element</span></code> attribute of a string or tag points to whatever\\nwas parsed immediately afterwards. It might be the same as\\n<code class=\"docutils literal\"><span class=\"pre\">.next_sibling</span></code>, but it&#8217;s usually drastically different.\n",
      "Here&#8217;s the final &lt;a&gt; tag in the &#8220;three sisters&#8221; document. Its\\n<code class=\"docutils literal\"><span class=\"pre\">.next_sibling</span></code> is a string: the conclusion of the sentence that was\\ninterrupted by the start of the &lt;a&gt; tag.:\n",
      "But the <code class=\"docutils literal\"><span class=\"pre\">.next_element</span></code> of that &lt;a&gt; tag, the thing that was parsed\\nimmediately after the &lt;a&gt; tag, is <cite>not</cite> the rest of that sentence:\\nit&#8217;s the word &#8220;Tillie&#8221;:\n",
      "That&#8217;s because in the original markup, the word &#8220;Tillie&#8221; appeared\\nbefore that semicolon. The parser encountered an &lt;a&gt; tag, then the\\nword &#8220;Tillie&#8221;, then the closing &lt;/a&gt; tag, then the semicolon and rest of\\nthe sentence. The semicolon is on the same level as the &lt;a&gt; tag, but the\\nword &#8220;Tillie&#8221; was encountered first.\n",
      "The <code class=\"docutils literal\"><span class=\"pre\">.previous_element</span></code> attribute is the exact opposite of\\n<code class=\"docutils literal\"><span class=\"pre\">.next_element</span></code>. It points to whatever element was parsed\\nimmediately before this one:\n",
      "You should get the idea by now. You can use these iterators to move\\nforward or backward in the document as it was parsed:\n",
      "Beautiful Soup defines a lot of methods for searching the parse tree,\\nbut they&#8217;re all very similar. I&#8217;m going to spend a lot of time explaining\\nthe two most popular methods: <code class=\"docutils literal\"><span class=\"pre\">find()</span></code> and <code class=\"docutils literal\"><span class=\"pre\">find_all()</span></code>. The other\\nmethods take almost exactly the same arguments, so I&#8217;ll just cover\\nthem briefly.\n",
      "Once again, I&#8217;ll be using the &#8220;three sisters&#8221; document as an example:\n",
      "By passing in a filter to an argument like <code class=\"docutils literal\"><span class=\"pre\">find_all()</span></code>, you can\\nzoom in on the parts of the document you&#8217;re interested in.\n",
      "Before talking in detail about <code class=\"docutils literal\"><span class=\"pre\">find_all()</span></code> and similar methods, I\\nwant to show examples of different filters you can pass into these\\nmethods. These filters show up again and again, throughout the\\nsearch API. You can use them to filter based on a tag&#8217;s name,\\non its attributes, on the text of a string, or on some combination of\\nthese.\n",
      "The simplest filter is a string. Pass a string to a search method and\\nBeautiful Soup will perform a match against that exact string. This\\ncode finds all the &lt;b&gt; tags in the document:\n",
      "If you pass in a byte string, Beautiful Soup will assume the string is\\nencoded as UTF-8. You can avoid this by passing in a Unicode string instead.\n",
      "If you pass in a regular expression object, Beautiful Soup will filter\\nagainst that regular expression using its <code class=\"docutils literal\"><span class=\"pre\">search()</span></code> method. This code\\nfinds all the tags whose names start with the letter &#8220;b&#8221;; in this\\ncase, the &lt;body&gt; tag and the &lt;b&gt; tag:\n",
      "This code finds all the tags whose names contain the letter &#8216;t&#8217;:\n",
      "If you pass in a list, Beautiful Soup will allow a string match\\nagainst <cite>any</cite> item in that list. This code finds all the &lt;a&gt; tags\\n<cite>and</cite> all the &lt;b&gt; tags:\n",
      "The value <code class=\"docutils literal\"><span class=\"pre\">True</span></code> matches everything it can. This code finds <cite>all</cite>\\nthe tags in the document, but none of the text strings:\n",
      "If none of the other matches work for you, define a function that\\ntakes an element as its only argument. The function should return\\n<code class=\"docutils literal\"><span class=\"pre\">True</span></code> if the argument matches, and <code class=\"docutils literal\"><span class=\"pre\">False</span></code> otherwise.\n",
      "Here&#8217;s a function that returns <code class=\"docutils literal\"><span class=\"pre\">True</span></code> if a tag defines the &#8220;class&#8221;\\nattribute but doesn&#8217;t define the &#8220;id&#8221; attribute:\n",
      "Pass this function into <code class=\"docutils literal\"><span class=\"pre\">find_all()</span></code> and you&#8217;ll pick up all the &lt;p&gt;\\ntags:\n",
      "This function only picks up the &lt;p&gt; tags. It doesn&#8217;t pick up the &lt;a&gt;\\ntags, because those tags define both &#8220;class&#8221; and &#8220;id&#8221;. It doesn&#8217;t pick\\nup tags like &lt;html&gt; and &lt;title&gt;, because those tags don&#8217;t define\\n&#8220;class&#8221;.\n",
      "If you pass in a function to filter on a specific attribute like\\n<code class=\"docutils literal\"><span class=\"pre\">href</span></code>, the argument passed into the function will be the attribute\\nvalue, not the whole tag. Here&#8217;s a function that finds all <code class=\"docutils literal\"><span class=\"pre\">a</span></code> tags\\nwhose <code class=\"docutils literal\"><span class=\"pre\">href</span></code> attribute <em>does not</em> match a regular expression:\n",
      "The function can be as complicated as you need it to be. Here&#8217;s a\\nfunction that returns <code class=\"docutils literal\"><span class=\"pre\">True</span></code> if a tag is surrounded by string\\nobjects:\n",
      "Now we&#8217;re ready to look at the search methods in detail.\n",
      "Signature: find_all(<a class=\"reference internal\" href=\"#id11\"><span>name</span></a>, <a class=\"reference internal\" href=\"#attrs\"><span>attrs</span></a>, <a class=\"reference internal\" href=\"#recursive\"><span>recursive</span></a>, <a class=\"reference internal\" href=\"#id12\"><span>string</span></a>, <a class=\"reference internal\" href=\"#limit\"><span>limit</span></a>, <a class=\"reference internal\" href=\"#kwargs\"><span>**kwargs</span></a>)\n",
      "The <code class=\"docutils literal\"><span class=\"pre\">find_all()</span></code> method looks through a tag&#8217;s descendants and\\nretrieves <cite>all</cite> descendants that match your filters. I gave several\\nexamples in <a class=\"reference internal\" href=\"#kinds-of-filters\">Kinds of filters</a>, but here are a few more:\n",
      "Some of these should look familiar, but others are new. What does it\\nmean to pass in a value for <code class=\"docutils literal\"><span class=\"pre\">string</span></code>, or <code class=\"docutils literal\"><span class=\"pre\">id</span></code>? Why does\\n<code class=\"docutils literal\"><span class=\"pre\">find_all(&quot;p&quot;,</span> <span class=\"pre\">&quot;title&quot;)</span></code> find a &lt;p&gt; tag with the CSS class &#8220;title&#8221;?\\nLet&#8217;s look at the arguments to <code class=\"docutils literal\"><span class=\"pre\">find_all()</span></code>.\n",
      "Pass in a value for <code class=\"docutils literal\"><span class=\"pre\">name</span></code> and you&#8217;ll tell Beautiful Soup to only\\nconsider tags with certain names. Text strings will be ignored, as\\nwill tags whose names that don&#8217;t match.\n",
      "This is the simplest usage:\n",
      "Recall from <a class=\"reference internal\" href=\"#kinds-of-filters\">Kinds of filters</a> that the value to <code class=\"docutils literal\"><span class=\"pre\">name</span></code> can be <a class=\"reference internal\" href=\"#a-string\">a\\nstring</a>, <a class=\"reference internal\" href=\"#a-regular-expression\">a regular expression</a>, <a class=\"reference internal\" href=\"#a-list\">a list</a>, <a class=\"reference internal\" href=\"#a-function\">a function</a>, or <a class=\"reference internal\" href=\"#the-value-true\">the value\\nTrue</a>.\n",
      "Any argument that&#8217;s not recognized will be turned into a filter on one\\nof a tag&#8217;s attributes. If you pass in a value for an argument called <code class=\"docutils literal\"><span class=\"pre\">id</span></code>,\\nBeautiful Soup will filter against each tag&#8217;s &#8216;id&#8217; attribute:\n",
      "If you pass in a value for <code class=\"docutils literal\"><span class=\"pre\">href</span></code>, Beautiful Soup will filter\\nagainst each tag&#8217;s &#8216;href&#8217; attribute:\n",
      "You can filter an attribute based on <a class=\"reference internal\" href=\"#a-string\">a string</a>, <a class=\"reference internal\" href=\"#a-regular-expression\">a regular\\nexpression</a>, <a class=\"reference internal\" href=\"#a-list\">a list</a>, <a class=\"reference internal\" href=\"#a-function\">a function</a>, or <a class=\"reference internal\" href=\"#the-value-true\">the value True</a>.\n",
      "This code finds all tags whose <code class=\"docutils literal\"><span class=\"pre\">id</span></code> attribute has a value,\\nregardless of what the value is:\n",
      "You can filter multiple attributes at once by passing in more than one\\nkeyword argument:\n",
      "Some attributes, like the data-* attributes in HTML 5, have names that\\ncan&#8217;t be used as the names of keyword arguments:\n",
      "You can use these attributes in searches by putting them into a\\ndictionary and passing the dictionary into <code class=\"docutils literal\"><span class=\"pre\">find_all()</span></code> as the\\n<code class=\"docutils literal\"><span class=\"pre\">attrs</span></code> argument:\n",
      "You can&#8217;t use a keyword argument to search for HTML&#8217;s &#8216;name&#8217; element,\\nbecause Beautiful Soup uses the <code class=\"docutils literal\"><span class=\"pre\">name</span></code> argument to contain the name\\nof the tag itself. Instead, you can give a value to &#8216;name&#8217; in the\\n<code class=\"docutils literal\"><span class=\"pre\">attrs</span></code> argument:\n",
      "It&#8217;s very useful to search for a tag that has a certain CSS class, but\\nthe name of the CSS attribute, &#8220;class&#8221;, is a reserved word in\\nPython. Using <code class=\"docutils literal\"><span class=\"pre\">class</span></code> as a keyword argument will give you a syntax\\nerror. As of Beautiful Soup 4.1.2, you can search by CSS class using\\nthe keyword argument <code class=\"docutils literal\"><span class=\"pre\">class_</span></code>:\n",
      "As with any keyword argument, you can pass <code class=\"docutils literal\"><span class=\"pre\">class_</span></code> a string, a regular\\nexpression, a function, or <code class=\"docutils literal\"><span class=\"pre\">True</span></code>:\n",
      "<a class=\"reference internal\" href=\"#multivalue\"><span>Remember</span></a> that a single tag can have multiple\\nvalues for its &#8220;class&#8221; attribute. When you search for a tag that\\nmatches a certain CSS class, you&#8217;re matching against <cite>any</cite> of its CSS\\nclasses:\n",
      "You can also search for the exact string value of the <code class=\"docutils literal\"><span class=\"pre\">class</span></code> attribute:\n",
      "But searching for variants of the string value won&#8217;t work:\n",
      "If you want to search for tags that match two or more CSS classes, you\\nshould use a CSS selector:\n",
      "In older versions of Beautiful Soup, which don&#8217;t have the <code class=\"docutils literal\"><span class=\"pre\">class_</span></code>\\nshortcut, you can use the <code class=\"docutils literal\"><span class=\"pre\">attrs</span></code> trick mentioned above. Create a\\ndictionary whose value for &#8220;class&#8221; is the string (or regular\\nexpression, or whatever) you want to search for:\n",
      "With <code class=\"docutils literal\"><span class=\"pre\">string</span></code> you can search for strings instead of tags. As with\\n<code class=\"docutils literal\"><span class=\"pre\">name</span></code> and the keyword arguments, you can pass in <a class=\"reference internal\" href=\"#a-string\">a string</a>, <a class=\"reference internal\" href=\"#a-regular-expression\">a\\nregular expression</a>, <a class=\"reference internal\" href=\"#a-list\">a list</a>, <a class=\"reference internal\" href=\"#a-function\">a function</a>, or <a class=\"reference internal\" href=\"#the-value-true\">the value True</a>.\\nHere are some examples:\n",
      "Although <code class=\"docutils literal\"><span class=\"pre\">string</span></code> is for finding strings, you can combine it with\\narguments that find tags: Beautiful Soup will find all tags whose\\n<code class=\"docutils literal\"><span class=\"pre\">.string</span></code> matches your value for <code class=\"docutils literal\"><span class=\"pre\">string</span></code>. This code finds the &lt;a&gt;\\ntags whose <code class=\"docutils literal\"><span class=\"pre\">.string</span></code> is &#8220;Elsie&#8221;:\n",
      "The <code class=\"docutils literal\"><span class=\"pre\">string</span></code> argument is new in Beautiful Soup 4.4.0. In earlier\\nversions it was called <code class=\"docutils literal\"><span class=\"pre\">text</span></code>:\n",
      "<code class=\"docutils literal\"><span class=\"pre\">find_all()</span></code> returns all the tags and strings that match your\\nfilters. This can take a while if the document is large. If you don&#8217;t\\nneed <cite>all</cite> the results, you can pass in a number for <code class=\"docutils literal\"><span class=\"pre\">limit</span></code>. This\\nworks just like the LIMIT keyword in SQL. It tells Beautiful Soup to\\nstop gathering results after it&#8217;s found a certain number.\n",
      "There are three links in the &#8220;three sisters&#8221; document, but this code\\nonly finds the first two:\n",
      "If you call <code class=\"docutils literal\"><span class=\"pre\">mytag.find_all()</span></code>, Beautiful Soup will examine all the\\ndescendants of <code class=\"docutils literal\"><span class=\"pre\">mytag</span></code>: its children, its children&#8217;s children, and\\nso on. If you only want Beautiful Soup to consider direct children,\\nyou can pass in <code class=\"docutils literal\"><span class=\"pre\">recursive=False</span></code>. See the difference here:\n",
      "Here&#8217;s that part of the document:\n",
      "The &lt;title&gt; tag is beneath the &lt;html&gt; tag, but it&#8217;s not <cite>directly</cite>\\nbeneath the &lt;html&gt; tag: the &lt;head&gt; tag is in the way. Beautiful Soup\\nfinds the &lt;title&gt; tag when it&#8217;s allowed to look at all descendants of\\nthe &lt;html&gt; tag, but when <code class=\"docutils literal\"><span class=\"pre\">recursive=False</span></code> restricts it to the\\n&lt;html&gt; tag&#8217;s immediate children, it finds nothing.\n",
      "Beautiful Soup offers a lot of tree-searching methods (covered below),\\nand they mostly take the same arguments as <code class=\"docutils literal\"><span class=\"pre\">find_all()</span></code>: <code class=\"docutils literal\"><span class=\"pre\">name</span></code>,\\n<code class=\"docutils literal\"><span class=\"pre\">attrs</span></code>, <code class=\"docutils literal\"><span class=\"pre\">string</span></code>, <code class=\"docutils literal\"><span class=\"pre\">limit</span></code>, and the keyword arguments. But the\\n<code class=\"docutils literal\"><span class=\"pre\">recursive</span></code> argument is different: <code class=\"docutils literal\"><span class=\"pre\">find_all()</span></code> and <code class=\"docutils literal\"><span class=\"pre\">find()</span></code> are\\nthe only methods that support it. Passing <code class=\"docutils literal\"><span class=\"pre\">recursive=False</span></code> into a\\nmethod like <code class=\"docutils literal\"><span class=\"pre\">find_parents()</span></code> wouldn&#8217;t be very useful.\n",
      "Because <code class=\"docutils literal\"><span class=\"pre\">find_all()</span></code> is the most popular method in the Beautiful\\nSoup search API, you can use a shortcut for it. If you treat the\\n<code class=\"docutils literal\"><span class=\"pre\">BeautifulSoup</span></code> object or a <code class=\"docutils literal\"><span class=\"pre\">Tag</span></code> object as though it were a\\nfunction, then it&#8217;s the same as calling <code class=\"docutils literal\"><span class=\"pre\">find_all()</span></code> on that\\nobject. These two lines of code are equivalent:\n",
      "These two lines are also equivalent:\n",
      "Signature: find(<a class=\"reference internal\" href=\"#id11\"><span>name</span></a>, <a class=\"reference internal\" href=\"#attrs\"><span>attrs</span></a>, <a class=\"reference internal\" href=\"#recursive\"><span>recursive</span></a>, <a class=\"reference internal\" href=\"#id12\"><span>string</span></a>, <a class=\"reference internal\" href=\"#kwargs\"><span>**kwargs</span></a>)\n",
      "The <code class=\"docutils literal\"><span class=\"pre\">find_all()</span></code> method scans the entire document looking for\\nresults, but sometimes you only want to find one result. If you know a\\ndocument only has one &lt;body&gt; tag, it&#8217;s a waste of time to scan the\\nentire document looking for more. Rather than passing in <code class=\"docutils literal\"><span class=\"pre\">limit=1</span></code>\\nevery time you call <code class=\"docutils literal\"><span class=\"pre\">find_all</span></code>, you can use the <code class=\"docutils literal\"><span class=\"pre\">find()</span></code>\\nmethod. These two lines of code are <cite>nearly</cite> equivalent:\n",
      "The only difference is that <code class=\"docutils literal\"><span class=\"pre\">find_all()</span></code> returns a list containing\\nthe single result, and <code class=\"docutils literal\"><span class=\"pre\">find()</span></code> just returns the result.\n",
      "If <code class=\"docutils literal\"><span class=\"pre\">find_all()</span></code> can&#8217;t find anything, it returns an empty list. If\\n<code class=\"docutils literal\"><span class=\"pre\">find()</span></code> can&#8217;t find anything, it returns <code class=\"docutils literal\"><span class=\"pre\">None</span></code>:\n",
      "Remember the <code class=\"docutils literal\"><span class=\"pre\">soup.head.title</span></code> trick from <a class=\"reference internal\" href=\"#navigating-using-tag-names\">Navigating using tag\\nnames</a>? That trick works by repeatedly calling <code class=\"docutils literal\"><span class=\"pre\">find()</span></code>:\n",
      "Signature: find_parents(<a class=\"reference internal\" href=\"#id11\"><span>name</span></a>, <a class=\"reference internal\" href=\"#attrs\"><span>attrs</span></a>, <a class=\"reference internal\" href=\"#id12\"><span>string</span></a>, <a class=\"reference internal\" href=\"#limit\"><span>limit</span></a>, <a class=\"reference internal\" href=\"#kwargs\"><span>**kwargs</span></a>)\n",
      "Signature: find_parent(<a class=\"reference internal\" href=\"#id11\"><span>name</span></a>, <a class=\"reference internal\" href=\"#attrs\"><span>attrs</span></a>, <a class=\"reference internal\" href=\"#id12\"><span>string</span></a>, <a class=\"reference internal\" href=\"#kwargs\"><span>**kwargs</span></a>)\n",
      "I spent a lot of time above covering <code class=\"docutils literal\"><span class=\"pre\">find_all()</span></code> and\\n<code class=\"docutils literal\"><span class=\"pre\">find()</span></code>. The Beautiful Soup API defines ten other methods for\\nsearching the tree, but don&#8217;t be afraid. Five of these methods are\\nbasically the same as <code class=\"docutils literal\"><span class=\"pre\">find_all()</span></code>, and the other five are basically\\nthe same as <code class=\"docutils literal\"><span class=\"pre\">find()</span></code>. The only differences are in what parts of the\\ntree they search.\n",
      "First let&#8217;s consider <code class=\"docutils literal\"><span class=\"pre\">find_parents()</span></code> and\\n<code class=\"docutils literal\"><span class=\"pre\">find_parent()</span></code>. Remember that <code class=\"docutils literal\"><span class=\"pre\">find_all()</span></code> and <code class=\"docutils literal\"><span class=\"pre\">find()</span></code> work\\ntheir way down the tree, looking at tag&#8217;s descendants. These methods\\ndo the opposite: they work their way <cite>up</cite> the tree, looking at a tag&#8217;s\\n(or a string&#8217;s) parents. Let&#8217;s try them out, starting from a string\\nburied deep in the &#8220;three daughters&#8221; document:\n",
      "One of the three &lt;a&gt; tags is the direct parent of the string in\\nquestion, so our search finds it. One of the three &lt;p&gt; tags is an\\nindirect parent of the string, and our search finds that as\\nwell. There&#8217;s a &lt;p&gt; tag with the CSS class &#8220;title&#8221; <cite>somewhere</cite> in the\\ndocument, but it&#8217;s not one of this string&#8217;s parents, so we can&#8217;t find\\nit with <code class=\"docutils literal\"><span class=\"pre\">find_parents()</span></code>.\n",
      "You may have made the connection between <code class=\"docutils literal\"><span class=\"pre\">find_parent()</span></code> and\\n<code class=\"docutils literal\"><span class=\"pre\">find_parents()</span></code>, and the <a class=\"reference internal\" href=\"#parent\">.parent</a> and <a class=\"reference internal\" href=\"#parents\">.parents</a> attributes\\nmentioned earlier. The connection is very strong. These search methods\\nactually use <code class=\"docutils literal\"><span class=\"pre\">.parents</span></code> to iterate over all the parents, and check\\neach one against the provided filter to see if it matches.\n",
      "Signature: find_next_siblings(<a class=\"reference internal\" href=\"#id11\"><span>name</span></a>, <a class=\"reference internal\" href=\"#attrs\"><span>attrs</span></a>, <a class=\"reference internal\" href=\"#id12\"><span>string</span></a>, <a class=\"reference internal\" href=\"#limit\"><span>limit</span></a>, <a class=\"reference internal\" href=\"#kwargs\"><span>**kwargs</span></a>)\n",
      "Signature: find_next_sibling(<a class=\"reference internal\" href=\"#id11\"><span>name</span></a>, <a class=\"reference internal\" href=\"#attrs\"><span>attrs</span></a>, <a class=\"reference internal\" href=\"#id12\"><span>string</span></a>, <a class=\"reference internal\" href=\"#kwargs\"><span>**kwargs</span></a>)\n",
      "These methods use <a class=\"reference internal\" href=\"#sibling-generators\"><span>.next_siblings</span></a> to\\niterate over the rest of an element&#8217;s siblings in the tree. The\\n<code class=\"docutils literal\"><span class=\"pre\">find_next_siblings()</span></code> method returns all the siblings that match,\\nand <code class=\"docutils literal\"><span class=\"pre\">find_next_sibling()</span></code> only returns the first one:\n",
      "Signature: find_previous_siblings(<a class=\"reference internal\" href=\"#id11\"><span>name</span></a>, <a class=\"reference internal\" href=\"#attrs\"><span>attrs</span></a>, <a class=\"reference internal\" href=\"#id12\"><span>string</span></a>, <a class=\"reference internal\" href=\"#limit\"><span>limit</span></a>, <a class=\"reference internal\" href=\"#kwargs\"><span>**kwargs</span></a>)\n",
      "Signature: find_previous_sibling(<a class=\"reference internal\" href=\"#id11\"><span>name</span></a>, <a class=\"reference internal\" href=\"#attrs\"><span>attrs</span></a>, <a class=\"reference internal\" href=\"#id12\"><span>string</span></a>, <a class=\"reference internal\" href=\"#kwargs\"><span>**kwargs</span></a>)\n",
      "These methods use <a class=\"reference internal\" href=\"#sibling-generators\"><span>.previous_siblings</span></a> to iterate over an element&#8217;s\\nsiblings that precede it in the tree. The <code class=\"docutils literal\"><span class=\"pre\">find_previous_siblings()</span></code>\\nmethod returns all the siblings that match, and\\n<code class=\"docutils literal\"><span class=\"pre\">find_previous_sibling()</span></code> only returns the first one:\n",
      "Signature: find_all_next(<a class=\"reference internal\" href=\"#id11\"><span>name</span></a>, <a class=\"reference internal\" href=\"#attrs\"><span>attrs</span></a>, <a class=\"reference internal\" href=\"#id12\"><span>string</span></a>, <a class=\"reference internal\" href=\"#limit\"><span>limit</span></a>, <a class=\"reference internal\" href=\"#kwargs\"><span>**kwargs</span></a>)\n",
      "Signature: find_next(<a class=\"reference internal\" href=\"#id11\"><span>name</span></a>, <a class=\"reference internal\" href=\"#attrs\"><span>attrs</span></a>, <a class=\"reference internal\" href=\"#id12\"><span>string</span></a>, <a class=\"reference internal\" href=\"#kwargs\"><span>**kwargs</span></a>)\n",
      "These methods use <a class=\"reference internal\" href=\"#element-generators\"><span>.next_elements</span></a> to\\niterate over whatever tags and strings that come after it in the\\ndocument. The <code class=\"docutils literal\"><span class=\"pre\">find_all_next()</span></code> method returns all matches, and\\n<code class=\"docutils literal\"><span class=\"pre\">find_next()</span></code> only returns the first match:\n",
      "In the first example, the string &#8220;Elsie&#8221; showed up, even though it was\\ncontained within the &lt;a&gt; tag we started from. In the second example,\\nthe last &lt;p&gt; tag in the document showed up, even though it&#8217;s not in\\nthe same part of the tree as the &lt;a&gt; tag we started from. For these\\nmethods, all that matters is that an element match the filter, and\\nshow up later in the document than the starting element.\n",
      "Signature: find_all_previous(<a class=\"reference internal\" href=\"#id11\"><span>name</span></a>, <a class=\"reference internal\" href=\"#attrs\"><span>attrs</span></a>, <a class=\"reference internal\" href=\"#id12\"><span>string</span></a>, <a class=\"reference internal\" href=\"#limit\"><span>limit</span></a>, <a class=\"reference internal\" href=\"#kwargs\"><span>**kwargs</span></a>)\n",
      "Signature: find_previous(<a class=\"reference internal\" href=\"#id11\"><span>name</span></a>, <a class=\"reference internal\" href=\"#attrs\"><span>attrs</span></a>, <a class=\"reference internal\" href=\"#id12\"><span>string</span></a>, <a class=\"reference internal\" href=\"#kwargs\"><span>**kwargs</span></a>)\n",
      "These methods use <a class=\"reference internal\" href=\"#element-generators\"><span>.previous_elements</span></a> to\\niterate over the tags and strings that came before it in the\\ndocument. The <code class=\"docutils literal\"><span class=\"pre\">find_all_previous()</span></code> method returns all matches, and\\n<code class=\"docutils literal\"><span class=\"pre\">find_previous()</span></code> only returns the first match:\n",
      "The call to <code class=\"docutils literal\"><span class=\"pre\">find_all_previous(&quot;p&quot;)</span></code> found the first paragraph in\\nthe document (the one with class=&#8221;title&#8221;), but it also finds the\\nsecond paragraph, the &lt;p&gt; tag that contains the &lt;a&gt; tag we started\\nwith. This shouldn&#8217;t be too surprising: we&#8217;re looking at all the tags\\nthat show up earlier in the document than the one we started with. A\\n&lt;p&gt; tag that contains an &lt;a&gt; tag must have shown up before the &lt;a&gt;\\ntag it contains.\n",
      "As of version 4.7.0, Beautiful Soup supports most CSS4 selectors via\\nthe <a class=\"reference external\" href=\"https://facelessuser.github.io/soupsieve/\">SoupSieve</a>\\nproject. If you installed Beautiful Soup through <code class=\"docutils literal\"><span class=\"pre\">pip</span></code>, SoupSieve\\nwas installed at the same time, so you don&#8217;t have to do anything extra.\n",
      "<code class=\"docutils literal\"><span class=\"pre\">BeautifulSoup</span></code> has a <code class=\"docutils literal\"><span class=\"pre\">.select()</span></code> method which uses SoupSieve to\\nrun a CSS selector against a parsed document and return all the\\nmatching elements. <code class=\"docutils literal\"><span class=\"pre\">Tag</span></code> has a similar method which runs a CSS\\nselector against the contents of a single tag.\n",
      "(Earlier versions of Beautiful Soup also have the <code class=\"docutils literal\"><span class=\"pre\">.select()</span></code>\\nmethod, but only the most commonly-used CSS selectors are supported.)\n",
      "The SoupSieve <a class=\"reference external\" href=\"https://facelessuser.github.io/soupsieve/\">documentation</a> lists all the currently\\nsupported CSS selectors, but here are some of the basics:\n",
      "You can find tags:\n",
      "Find tags beneath other tags:\n",
      "Find tags <cite>directly</cite> beneath other tags:\n",
      "Find the siblings of tags:\n",
      "Find tags by CSS class:\n",
      "Find tags by ID:\n",
      "Find tags that match any selector from a list of selectors:\n",
      "Test for the existence of an attribute:\n",
      "Find tags by attribute value:\n",
      "There&#8217;s also a method called <code class=\"docutils literal\"><span class=\"pre\">select_one()</span></code>, which finds only the\\nfirst tag that matches a selector:\n",
      "If you&#8217;ve parsed XML that defines namespaces, you can use them in CSS\\nselectors.:\n",
      "When handling a CSS selector that uses namespaces, Beautiful Soup\\nuses the namespace abbreviations it found when parsing the\\ndocument. You can override this by passing in your own dictionary of\\nabbreviations:\n",
      "All this CSS selector stuff is a convenience for people who already\\nknow the CSS selector syntax. You can do all of this with the\\nBeautiful Soup API. And if CSS selectors are all you need, you should\\nparse the document with lxml: it&#8217;s a lot faster. But this lets you\\n<cite>combine</cite> CSS selectors with the Beautiful Soup API.\n",
      "Beautiful Soup&#8217;s main strength is in searching the parse tree, but you\\ncan also modify the tree and write your changes as a new HTML or XML\\ndocument.\n",
      "I covered this earlier, in <a class=\"reference internal\" href=\"#attributes\">Attributes</a>, but it bears repeating. You\\ncan rename a tag, change the values of its attributes, add new\\nattributes, and delete attributes:\n",
      "If you set a tag&#8217;s <code class=\"docutils literal\"><span class=\"pre\">.string</span></code> attribute, the tag&#8217;s contents are\\nreplaced with the string you give:\n",
      "Be careful: if the tag contained other tags, they and all their\\ncontents will be destroyed.\n",
      "You can add to a tag&#8217;s contents with <code class=\"docutils literal\"><span class=\"pre\">Tag.append()</span></code>. It works just\\nlike calling <code class=\"docutils literal\"><span class=\"pre\">.append()</span></code> on a Python list:\n",
      "Starting in Beautiful Soup 4.7.0, <code class=\"docutils literal\"><span class=\"pre\">Tag</span></code> also supports a method\\ncalled <code class=\"docutils literal\"><span class=\"pre\">.extend()</span></code>, which works just like calling <code class=\"docutils literal\"><span class=\"pre\">.extend()</span></code> on a\\nPython list:\n",
      "If you need to add a string to a document, no problem&#8211;you can pass a\\nPython string in to <code class=\"docutils literal\"><span class=\"pre\">append()</span></code>, or you can call the <code class=\"docutils literal\"><span class=\"pre\">NavigableString</span></code>\\nconstructor:\n",
      "If you want to create a comment or some other subclass of\\n<code class=\"docutils literal\"><span class=\"pre\">NavigableString</span></code>, just call the constructor:\n",
      "(This is a new feature in Beautiful Soup 4.4.0.)\n",
      "What if you need to create a whole new tag?  The best solution is to\\ncall the factory method <code class=\"docutils literal\"><span class=\"pre\">BeautifulSoup.new_tag()</span></code>:\n",
      "Only the first argument, the tag name, is required.\n",
      "<code class=\"docutils literal\"><span class=\"pre\">Tag.insert()</span></code> is just like <code class=\"docutils literal\"><span class=\"pre\">Tag.append()</span></code>, except the new element\\ndoesn&#8217;t necessarily go at the end of its parent&#8217;s\\n<code class=\"docutils literal\"><span class=\"pre\">.contents</span></code>. It&#8217;ll be inserted at whatever numeric position you\\nsay. It works just like <code class=\"docutils literal\"><span class=\"pre\">.insert()</span></code> on a Python list:\n",
      "The <code class=\"docutils literal\"><span class=\"pre\">insert_before()</span></code> method inserts tags or strings immediately\\nbefore something else in the parse tree:\n",
      "The <code class=\"docutils literal\"><span class=\"pre\">insert_after()</span></code> method inserts tags or strings immediately\\nfollowing something else in the parse tree:\n",
      "<code class=\"docutils literal\"><span class=\"pre\">Tag.clear()</span></code> removes the contents of a tag:\n",
      "<code class=\"docutils literal\"><span class=\"pre\">PageElement.extract()</span></code> removes a tag or string from the tree. It\\nreturns the tag or string that was extracted:\n",
      "At this point you effectively have two parse trees: one rooted at the\\n<code class=\"docutils literal\"><span class=\"pre\">BeautifulSoup</span></code> object you used to parse the document, and one rooted\\nat the tag that was extracted. You can go on to call <code class=\"docutils literal\"><span class=\"pre\">extract</span></code> on\\na child of the element you extracted:\n",
      "<code class=\"docutils literal\"><span class=\"pre\">Tag.decompose()</span></code> removes a tag from the tree, then <cite>completely\\ndestroys it and its contents</cite>:\n",
      "<code class=\"docutils literal\"><span class=\"pre\">PageElement.replace_with()</span></code> removes a tag or string from the tree,\\nand replaces it with the tag or string of your choice:\n",
      "<code class=\"docutils literal\"><span class=\"pre\">replace_with()</span></code> returns the tag or string that was replaced, so\\nthat you can examine it or add it back to another part of the tree.\n",
      "<code class=\"docutils literal\"><span class=\"pre\">PageElement.wrap()</span></code> wraps an element in the tag you specify. It\\nreturns the new wrapper:\n",
      "This method is new in Beautiful Soup 4.0.5.\n",
      "<code class=\"docutils literal\"><span class=\"pre\">Tag.unwrap()</span></code> is the opposite of <code class=\"docutils literal\"><span class=\"pre\">wrap()</span></code>. It replaces a tag with\\nwhatever&#8217;s inside that tag. It&#8217;s good for stripping out markup:\n",
      "Like <code class=\"docutils literal\"><span class=\"pre\">replace_with()</span></code>, <code class=\"docutils literal\"><span class=\"pre\">unwrap()</span></code> returns the tag\\nthat was replaced.\n",
      "The <code class=\"docutils literal\"><span class=\"pre\">prettify()</span></code> method will turn a Beautiful Soup parse tree into a\\nnicely formatted Unicode string, with a separate line for each\\nHTML/XML tag and string:\n",
      "markup = &#8216;&lt;a href=&#8221;<a class=\"reference external\" href=\"http://example.com/\">http://example.com/</a>&#8220;&gt;I linked to &lt;i&gt;example.com&lt;/i&gt;&lt;/a&gt;&#8217;\\nsoup = BeautifulSoup(markup)\\nsoup.prettify()\\n# &#8216;&lt;html&gt;n &lt;head&gt;n &lt;/head&gt;n &lt;body&gt;n  &lt;a href=&#8221;<a class=\"reference external\" href=\"http://example.com/\">http://example.com/</a>&#8220;&gt;n...&#8217;\n",
      "print(soup.prettify())\\n# &lt;html&gt;\\n#  &lt;head&gt;\\n#  &lt;/head&gt;\\n#  &lt;body&gt;\\n#   &lt;a href=&#8221;<a class=\"reference external\" href=\"http://example.com/\">http://example.com/</a>&#8220;&gt;\\n#    I linked to\\n#    &lt;i&gt;\\n#     example.com\\n#    &lt;/i&gt;\\n#   &lt;/a&gt;\\n#  &lt;/body&gt;\\n# &lt;/html&gt;\n",
      "You can call <code class=\"docutils literal\"><span class=\"pre\">prettify()</span></code> on the top-level <code class=\"docutils literal\"><span class=\"pre\">BeautifulSoup</span></code> object,\\nor on any of its <code class=\"docutils literal\"><span class=\"pre\">Tag</span></code> objects:\n",
      "If you just want a string, with no fancy formatting, you can call\\n<code class=\"docutils literal\"><span class=\"pre\">unicode()</span></code> or <code class=\"docutils literal\"><span class=\"pre\">str()</span></code> on a <code class=\"docutils literal\"><span class=\"pre\">BeautifulSoup</span></code> object, or a <code class=\"docutils literal\"><span class=\"pre\">Tag</span></code>\\nwithin it:\n",
      "The <code class=\"docutils literal\"><span class=\"pre\">str()</span></code> function returns a string encoded in UTF-8. See\\n<a class=\"reference internal\" href=\"#encodings\">Encodings</a> for other options.\n",
      "You can also call <code class=\"docutils literal\"><span class=\"pre\">encode()</span></code> to get a bytestring, and <code class=\"docutils literal\"><span class=\"pre\">decode()</span></code>\\nto get Unicode.\n",
      "If you give Beautiful Soup a document that contains HTML entities like\\n&#8220;&amp;lquot;&#8221;, they&#8217;ll be converted to Unicode characters:\n",
      "If you then convert the document to a string, the Unicode characters\\nwill be encoded as UTF-8. You won&#8217;t get the HTML entities back:\n",
      "By default, the only characters that are escaped upon output are bare\\nampersands and angle brackets. These get turned into &#8220;&amp;amp;&#8221;, &#8220;&amp;lt;&#8221;,\\nand &#8220;&amp;gt;&#8221;, so that Beautiful Soup doesn&#8217;t inadvertently generate\\ninvalid HTML or XML:\n",
      "You can change this behavior by providing a value for the\\n<code class=\"docutils literal\"><span class=\"pre\">formatter</span></code> argument to <code class=\"docutils literal\"><span class=\"pre\">prettify()</span></code>, <code class=\"docutils literal\"><span class=\"pre\">encode()</span></code>, or\\n<code class=\"docutils literal\"><span class=\"pre\">decode()</span></code>. Beautiful Soup recognizes six possible values for\\n<code class=\"docutils literal\"><span class=\"pre\">formatter</span></code>.\n",
      "The default is <code class=\"docutils literal\"><span class=\"pre\">formatter=&quot;minimal&quot;</span></code>. Strings will only be processed\\nenough to ensure that Beautiful Soup generates valid HTML/XML:\n",
      "If you pass in <code class=\"docutils literal\"><span class=\"pre\">formatter=&quot;html&quot;</span></code>, Beautiful Soup will convert\\nUnicode characters to HTML entities whenever possible:\n",
      "<code class=\"docutils literal\"><span class=\"pre\">formatter=&quot;html5&quot;</span></code>, but Beautiful Soup will\\nomit the closing slash in HTML void tags like &#8220;br&#8221;:\n",
      "If you pass in <code class=\"docutils literal\"><span class=\"pre\">formatter=None</span></code>, Beautiful Soup will not modify\\nstrings at all on output. This is the fastest option, but it may lead\\nto Beautiful Soup generating invalid HTML/XML, as in these examples:\n",
      "Finally, if you pass in a function for <code class=\"docutils literal\"><span class=\"pre\">formatter</span></code>, Beautiful Soup\\nwill call that function once for every string and attribute value in\\nthe document. You can do whatever you want in this function. Here&#8217;s a\\nformatter that converts strings to uppercase and does absolutely\\nnothing else:\n",
      "If you&#8217;re writing your own function, you should know about the\\n<code class=\"docutils literal\"><span class=\"pre\">EntitySubstitution</span></code> class in the <code class=\"docutils literal\"><span class=\"pre\">bs4.dammit</span></code> module. This class\\nimplements Beautiful Soup&#8217;s standard formatters as class methods: the\\n&#8220;html&#8221; formatter is <code class=\"docutils literal\"><span class=\"pre\">EntitySubstitution.substitute_html</span></code>, and the\\n&#8220;minimal&#8221; formatter is <code class=\"docutils literal\"><span class=\"pre\">EntitySubstitution.substitute_xml</span></code>. You can\\nuse these functions to simulate <code class=\"docutils literal\"><span class=\"pre\">formatter=html</span></code> or\\n<code class=\"docutils literal\"><span class=\"pre\">formatter==minimal</span></code>, but then do something extra.\n",
      "Here&#8217;s an example that replaces Unicode characters with HTML entities\\nwhenever possible, but <cite>also</cite> converts all strings to uppercase:\n",
      "One last caveat: if you create a <code class=\"docutils literal\"><span class=\"pre\">CData</span></code> object, the text inside\\nthat object is always presented <cite>exactly as it appears, with no\\nformatting</cite>. Beautiful Soup will call the formatter method, just in\\ncase you&#8217;ve written a custom method that counts all the strings in the\\ndocument or something, but it will ignore the return value:\n",
      "If you only want the text part of a document or tag, you can use the\\n<code class=\"docutils literal\"><span class=\"pre\">get_text()</span></code> method. It returns all the text in a document or\\nbeneath a tag, as a single Unicode string:\n",
      "You can specify a string to be used to join the bits of text\\ntogether:\n",
      "You can tell Beautiful Soup to strip whitespace from the beginning and\\nend of each bit of text:\n",
      "But at that point you might want to use the <a class=\"reference internal\" href=\"#string-generators\"><span>.stripped_strings</span></a>\\ngenerator instead, and process the text yourself:\n",
      "If you just need to parse some HTML, you can dump the markup into the\\n<code class=\"docutils literal\"><span class=\"pre\">BeautifulSoup</span></code> constructor, and it&#8217;ll probably be fine. Beautiful\\nSoup will pick a parser for you and parse the data. But there are a\\nfew additional arguments you can pass in to the constructor to change\\nwhich parser is used.\n",
      "The first argument to the <code class=\"docutils literal\"><span class=\"pre\">BeautifulSoup</span></code> constructor is a string or\\nan open filehandle&#8211;the markup you want parsed. The second argument is\\n<cite>how</cite> you&#8217;d like the markup parsed.\n",
      "If you don&#8217;t specify anything, you&#8217;ll get the best HTML parser that&#8217;s\\ninstalled. Beautiful Soup ranks lxml&#8217;s parser as being the best, then\\nhtml5lib&#8217;s, then Python&#8217;s built-in parser. You can override this by\\nspecifying one of the following:\n",
      "The section <a class=\"reference internal\" href=\"#installing-a-parser\">Installing a parser</a> contrasts the supported parsers.\n",
      "If you don&#8217;t have an appropriate parser installed, Beautiful Soup will\\nignore your request and pick a different parser. Right now, the only\\nsupported XML parser is lxml. If you don&#8217;t have lxml installed, asking\\nfor an XML parser won&#8217;t give you one, and asking for &#8220;lxml&#8221; won&#8217;t work\\neither.\n",
      "Beautiful Soup presents the same interface to a number of different\\nparsers, but each parser is different. Different parsers will create\\ndifferent parse trees from the same document. The biggest differences\\nare between the HTML parsers and the XML parsers. Here&#8217;s a short\\ndocument, parsed as HTML:\n",
      "Since an empty &lt;b /&gt; tag is not valid HTML, the parser turns it into a\\n&lt;b&gt;&lt;/b&gt; tag pair.\n",
      "Here&#8217;s the same document parsed as XML (running this requires that you\\nhave lxml installed). Note that the empty &lt;b /&gt; tag is left alone, and\\nthat the document is given an XML declaration instead of being put\\ninto an &lt;html&gt; tag.:\n",
      "There are also differences between HTML parsers. If you give Beautiful\\nSoup a perfectly-formed HTML document, these differences won&#8217;t\\nmatter. One parser will be faster than another, but they&#8217;ll all give\\nyou a data structure that looks exactly like the original HTML\\ndocument.\n",
      "But if the document is not perfectly-formed, different parsers will\\ngive different results. Here&#8217;s a short, invalid document parsed using\\nlxml&#8217;s HTML parser. Note that the dangling &lt;/p&gt; tag is simply\\nignored:\n",
      "Here&#8217;s the same document parsed using html5lib:\n",
      "Instead of ignoring the dangling &lt;/p&gt; tag, html5lib pairs it with an\\nopening &lt;p&gt; tag. This parser also adds an empty &lt;head&gt; tag to the\\ndocument.\n",
      "Here&#8217;s the same document parsed with Python&#8217;s built-in HTML\\nparser:\n",
      "Like html5lib, this parser ignores the closing &lt;/p&gt; tag. Unlike\\nhtml5lib, this parser makes no attempt to create a well-formed HTML\\ndocument by adding a &lt;body&gt; tag. Unlike lxml, it doesn&#8217;t even bother\\nto add an &lt;html&gt; tag.\n",
      "Since the document &#8220;&lt;a&gt;&lt;/p&gt;&#8221; is invalid, none of these techniques is\\nthe &#8220;correct&#8221; way to handle it. The html5lib parser uses techniques\\nthat are part of the HTML5 standard, so it has the best claim on being\\nthe &#8220;correct&#8221; way, but all three techniques are legitimate.\n",
      "Differences between parsers can affect your script. If you&#8217;re planning\\non distributing your script to other people, or running it on multiple\\nmachines, you should specify a parser in the <code class=\"docutils literal\"><span class=\"pre\">BeautifulSoup</span></code>\\nconstructor. That will reduce the chances that your users parse a\\ndocument differently from the way you parse it.\n",
      "Any HTML or XML document is written in a specific encoding like ASCII\\nor UTF-8.  But when you load that document into Beautiful Soup, you&#8217;ll\\ndiscover it&#8217;s been converted to Unicode:\n",
      "It&#8217;s not magic. (That sure would be nice.) Beautiful Soup uses a\\nsub-library called <a class=\"reference internal\" href=\"#unicode-dammit\">Unicode, Dammit</a> to detect a document&#8217;s encoding\\nand convert it to Unicode. The autodetected encoding is available as\\nthe <code class=\"docutils literal\"><span class=\"pre\">.original_encoding</span></code> attribute of the <code class=\"docutils literal\"><span class=\"pre\">BeautifulSoup</span></code> object:\n",
      "Unicode, Dammit guesses correctly most of the time, but sometimes it\\nmakes mistakes. Sometimes it guesses correctly, but only after a\\nbyte-by-byte search of the document that takes a very long time. If\\nyou happen to know a document&#8217;s encoding ahead of time, you can avoid\\nmistakes and delays by passing it to the <code class=\"docutils literal\"><span class=\"pre\">BeautifulSoup</span></code> constructor\\nas <code class=\"docutils literal\"><span class=\"pre\">from_encoding</span></code>.\n",
      "Here&#8217;s a document written in ISO-8859-8. The document is so short that\\nUnicode, Dammit can&#8217;t get a lock on it, and misidentifies it as\\nISO-8859-7:\n",
      "We can fix this by passing in the correct <code class=\"docutils literal\"><span class=\"pre\">from_encoding</span></code>:\n",
      "If you don&#8217;t know what the correct encoding is, but you know that\\nUnicode, Dammit is guessing wrong, you can pass the wrong guesses in\\nas <code class=\"docutils literal\"><span class=\"pre\">exclude_encodings</span></code>:\n",
      "Windows-1255 isn&#8217;t 100% correct, but that encoding is a compatible\\nsuperset of ISO-8859-8, so it&#8217;s close enough. (<code class=\"docutils literal\"><span class=\"pre\">exclude_encodings</span></code>\\nis a new feature in Beautiful Soup 4.4.0.)\n",
      "In rare cases (usually when a UTF-8 document contains text written in\\na completely different encoding), the only way to get Unicode may be\\nto replace some characters with the special Unicode character\\n&#8220;REPLACEMENT CHARACTER&#8221; (U+FFFD, \\xef\\xbf\\xbd). If Unicode, Dammit needs to do\\nthis, it will set the <code class=\"docutils literal\"><span class=\"pre\">.contains_replacement_characters</span></code> attribute\\nto <code class=\"docutils literal\"><span class=\"pre\">True</span></code> on the <code class=\"docutils literal\"><span class=\"pre\">UnicodeDammit</span></code> or <code class=\"docutils literal\"><span class=\"pre\">BeautifulSoup</span></code> object. This\\nlets you know that the Unicode representation is not an exact\\nrepresentation of the original&#8211;some data was lost. If a document\\ncontains \\xef\\xbf\\xbd, but <code class=\"docutils literal\"><span class=\"pre\">.contains_replacement_characters</span></code> is <code class=\"docutils literal\"><span class=\"pre\">False</span></code>,\\nyou&#8217;ll know that the \\xef\\xbf\\xbd was there originally (as it is in this\\nparagraph) and doesn&#8217;t stand in for missing data.\n",
      "When you write out a document from Beautiful Soup, you get a UTF-8\\ndocument, even if the document wasn&#8217;t in UTF-8 to begin with. Here&#8217;s a\\ndocument written in the Latin-1 encoding:\n",
      "Note that the &lt;meta&gt; tag has been rewritten to reflect the fact that\\nthe document is now in UTF-8.\n",
      "If you don&#8217;t want UTF-8, you can pass an encoding into <code class=\"docutils literal\"><span class=\"pre\">prettify()</span></code>:\n",
      "You can also call encode() on the <code class=\"docutils literal\"><span class=\"pre\">BeautifulSoup</span></code> object, or any\\nelement in the soup, just as if it were a Python string:\n",
      "Any characters that can&#8217;t be represented in your chosen encoding will\\nbe converted into numeric XML entity references. Here&#8217;s a document\\nthat includes the Unicode character SNOWMAN:\n",
      "The SNOWMAN character can be part of a UTF-8 document (it looks like\\n\\xe2\\x98\\x83), but there&#8217;s no representation for that character in ISO-Latin-1 or\\nASCII, so it&#8217;s converted into &#8220;&amp;#9731&#8221; for those encodings:\n",
      "You can use Unicode, Dammit without using Beautiful Soup. It&#8217;s useful\\nwhenever you have data in an unknown encoding and you just want it to\\nbecome Unicode:\n",
      "Unicode, Dammit&#8217;s guesses will get a lot more accurate if you install\\nthe <code class=\"docutils literal\"><span class=\"pre\">chardet</span></code> or <code class=\"docutils literal\"><span class=\"pre\">cchardet</span></code> Python libraries. The more data you\\ngive Unicode, Dammit, the more accurately it will guess. If you have\\nyour own suspicions as to what the encoding might be, you can pass\\nthem in as a list:\n",
      "Unicode, Dammit has two special features that Beautiful Soup doesn&#8217;t\\nuse.\n",
      "You can use Unicode, Dammit to convert Microsoft smart quotes to HTML or XML\\nentities:\n",
      "You can also convert Microsoft smart quotes to ASCII quotes:\n",
      "Hopefully you&#8217;ll find this feature useful, but Beautiful Soup doesn&#8217;t\\nuse it. Beautiful Soup prefers the default behavior, which is to\\nconvert Microsoft smart quotes to Unicode characters along with\\neverything else:\n",
      "Sometimes a document is mostly in UTF-8, but contains Windows-1252\\ncharacters such as (again) Microsoft smart quotes. This can happen\\nwhen a website includes data from multiple sources. You can use\\n<code class=\"docutils literal\"><span class=\"pre\">UnicodeDammit.detwingle()</span></code> to turn such a document into pure\\nUTF-8. Here&#8217;s a simple example:\n",
      "This document is a mess. The snowmen are in UTF-8 and the quotes are\\nin Windows-1252. You can display the snowmen or the quotes, but not\\nboth:\n",
      "Decoding the document as UTF-8 raises a <code class=\"docutils literal\"><span class=\"pre\">UnicodeDecodeError</span></code>, and\\ndecoding it as Windows-1252 gives you gibberish. Fortunately,\\n<code class=\"docutils literal\"><span class=\"pre\">UnicodeDammit.detwingle()</span></code> will convert the string to pure UTF-8,\\nallowing you to decode it to Unicode and display the snowmen and quote\\nmarks simultaneously:\n",
      "<code class=\"docutils literal\"><span class=\"pre\">UnicodeDammit.detwingle()</span></code> only knows how to handle Windows-1252\\nembedded in UTF-8 (or vice versa, I suppose), but this is the most\\ncommon case.\n",
      "Note that you must know to call <code class=\"docutils literal\"><span class=\"pre\">UnicodeDammit.detwingle()</span></code> on your\\ndata before passing it into <code class=\"docutils literal\"><span class=\"pre\">BeautifulSoup</span></code> or the <code class=\"docutils literal\"><span class=\"pre\">UnicodeDammit</span></code>\\nconstructor. Beautiful Soup assumes that a document has a single\\nencoding, whatever it might be. If you pass it a document that\\ncontains both UTF-8 and Windows-1252, it&#8217;s likely to think the whole\\ndocument is Windows-1252, and the document will come out looking like\\n<code class=\"docutils literal\"><span class=\"pre\">\\xc3\\xa2\\xcb\\x9c\\xc6\\x92\\xc3\\xa2\\xcb\\x9c\\xc6\\x92\\xc3\\xa2\\xcb\\x9c\\xc6\\x92\\xe2\\x80\\x9cI</span> <span class=\"pre\">like</span> <span class=\"pre\">snowmen!\\xe2\\x80\\x9d</span></code>.\n",
      "<code class=\"docutils literal\"><span class=\"pre\">UnicodeDammit.detwingle()</span></code> is new in Beautiful Soup 4.1.0.\n",
      "Beautiful Soup says that two <code class=\"docutils literal\"><span class=\"pre\">NavigableString</span></code> or <code class=\"docutils literal\"><span class=\"pre\">Tag</span></code> objects\\nare equal when they represent the same HTML or XML markup. In this\\nexample, the two &lt;b&gt; tags are treated as equal, even though they live\\nin different parts of the object tree, because they both look like\\n&#8220;&lt;b&gt;pizza&lt;/b&gt;&#8221;:\n",
      "If you want to see whether two variables refer to exactly the same\\nobject, use <cite>is</cite>:\n",
      "You can use <code class=\"docutils literal\"><span class=\"pre\">copy.copy()</span></code> to create a copy of any <code class=\"docutils literal\"><span class=\"pre\">Tag</span></code> or\\n<code class=\"docutils literal\"><span class=\"pre\">NavigableString</span></code>:\n",
      "The copy is considered equal to the original, since it represents the\\nsame markup as the original, but it&#8217;s not the same object:\n",
      "The only real difference is that the copy is completely detached from\\nthe original Beautiful Soup object tree, just as if <code class=\"docutils literal\"><span class=\"pre\">extract()</span></code> had\\nbeen called on it:\n",
      "This is because two different <code class=\"docutils literal\"><span class=\"pre\">Tag</span></code> objects can&#8217;t occupy the same\\nspace at the same time.\n",
      "Let&#8217;s say you want to use Beautiful Soup look at a document&#8217;s &lt;a&gt;\\ntags. It&#8217;s a waste of time and memory to parse the entire document and\\nthen go over it again looking for &lt;a&gt; tags. It would be much faster to\\nignore everything that wasn&#8217;t an &lt;a&gt; tag in the first place. The\\n<code class=\"docutils literal\"><span class=\"pre\">SoupStrainer</span></code> class allows you to choose which parts of an incoming\\ndocument are parsed. You just create a <code class=\"docutils literal\"><span class=\"pre\">SoupStrainer</span></code> and pass it in\\nto the <code class=\"docutils literal\"><span class=\"pre\">BeautifulSoup</span></code> constructor as the <code class=\"docutils literal\"><span class=\"pre\">parse_only</span></code> argument.\n",
      "(Note that <em>this feature won&#8217;t work if you&#8217;re using the html5lib parser</em>.\\nIf you use html5lib, the whole document will be parsed, no\\nmatter what. This is because html5lib constantly rearranges the parse\\ntree as it works, and if some part of the document didn&#8217;t actually\\nmake it into the parse tree, it&#8217;ll crash. To avoid confusion, in the\\nexamples below I&#8217;ll be forcing Beautiful Soup to use Python&#8217;s\\nbuilt-in parser.)\n",
      "The <code class=\"docutils literal\"><span class=\"pre\">SoupStrainer</span></code> class takes the same arguments as a typical\\nmethod from <a class=\"reference internal\" href=\"#searching-the-tree\">Searching the tree</a>: <a class=\"reference internal\" href=\"#id11\"><span>name</span></a>, <a class=\"reference internal\" href=\"#attrs\"><span>attrs</span></a>, <a class=\"reference internal\" href=\"#id12\"><span>string</span></a>, and <a class=\"reference internal\" href=\"#kwargs\"><span>**kwargs</span></a>. Here are\\nthree <code class=\"docutils literal\"><span class=\"pre\">SoupStrainer</span></code> objects:\n",
      "I&#8217;m going to bring back the &#8220;three sisters&#8221; document one more time,\\nand we&#8217;ll see what the document looks like when it&#8217;s parsed with these\\nthree <code class=\"docutils literal\"><span class=\"pre\">SoupStrainer</span></code> objects:\n",
      "You can also pass a <code class=\"docutils literal\"><span class=\"pre\">SoupStrainer</span></code> into any of the methods covered\\nin <a class=\"reference internal\" href=\"#searching-the-tree\">Searching the tree</a>. This probably isn&#8217;t terribly useful, but I\\nthought I&#8217;d mention it:\n",
      "If you&#8217;re having trouble understanding what Beautiful Soup does to a\\ndocument, pass the document into the <code class=\"docutils literal\"><span class=\"pre\">diagnose()</span></code> function. (New in\\nBeautiful Soup 4.2.0.)  Beautiful Soup will print out a report showing\\nyou how different parsers handle the document, and tell you if you&#8217;re\\nmissing a parser that Beautiful Soup could be using:\n",
      "Just looking at the output of diagnose() may show you how to solve the\\nproblem. Even if not, you can paste the output of <code class=\"docutils literal\"><span class=\"pre\">diagnose()</span></code> when\\nasking for help.\n",
      "There are two different kinds of parse errors. There are crashes,\\nwhere you feed a document to Beautiful Soup and it raises an\\nexception, usually an <code class=\"docutils literal\"><span class=\"pre\">HTMLParser.HTMLParseError</span></code>. And there is\\nunexpected behavior, where a Beautiful Soup parse tree looks a lot\\ndifferent than the document used to create it.\n",
      "Almost none of these problems turn out to be problems with Beautiful\\nSoup. This is not because Beautiful Soup is an amazingly well-written\\npiece of software. It&#8217;s because Beautiful Soup doesn&#8217;t include any\\nparsing code. Instead, it relies on external parsers. If one parser\\nisn&#8217;t working on a certain document, the best solution is to try a\\ndifferent parser. See <a class=\"reference internal\" href=\"#installing-a-parser\">Installing a parser</a> for details and a parser\\ncomparison.\n",
      "The most common parse errors are <code class=\"docutils literal\"><span class=\"pre\">HTMLParser.HTMLParseError:</span>\\n<span class=\"pre\">malformed</span> <span class=\"pre\">start</span> <span class=\"pre\">tag</span></code> and <code class=\"docutils literal\"><span class=\"pre\">HTMLParser.HTMLParseError:</span> <span class=\"pre\">bad</span> <span class=\"pre\">end</span>\\n<span class=\"pre\">tag</span></code>. These are both generated by Python&#8217;s built-in HTML parser\\nlibrary, and the solution is to <a class=\"reference internal\" href=\"#parser-installation\"><span>install lxml or\\nhtml5lib.</span></a>\n",
      "The most common type of unexpected behavior is that you can&#8217;t find a\\ntag that you know is in the document. You saw it going in, but\\n<code class=\"docutils literal\"><span class=\"pre\">find_all()</span></code> returns <code class=\"docutils literal\"><span class=\"pre\">[]</span></code> or <code class=\"docutils literal\"><span class=\"pre\">find()</span></code> returns <code class=\"docutils literal\"><span class=\"pre\">None</span></code>. This is\\nanother common problem with Python&#8217;s built-in HTML parser, which\\nsometimes skips tags it doesn&#8217;t understand.  Again, the solution is to\\n<a class=\"reference internal\" href=\"#parser-installation\"><span>install lxml or html5lib.</span></a>\n",
      "By default, Beautiful Soup parses documents as HTML. To parse a\\ndocument as XML, pass in &#8220;xml&#8221; as the second argument to the\\n<code class=\"docutils literal\"><span class=\"pre\">BeautifulSoup</span></code> constructor:\n",
      "You&#8217;ll need to <a class=\"reference internal\" href=\"#parser-installation\"><span>have lxml installed</span></a>.\n",
      "Beautiful Soup will never be as fast as the parsers it sits on top\\nof. If response time is critical, if you&#8217;re paying for computer time\\nby the hour, or if there&#8217;s any other reason why computer time is more\\nvaluable than programmer time, you should forget about Beautiful Soup\\nand work directly atop <a class=\"reference external\" href=\"http://lxml.de/\">lxml</a>.\n",
      "That said, there are things you can do to speed up Beautiful Soup. If\\nyou&#8217;re not using lxml as the underlying parser, my advice is to\\n<a class=\"reference internal\" href=\"#parser-installation\"><span>start</span></a>. Beautiful Soup parses documents\\nsignificantly faster using lxml than using html.parser or html5lib.\n",
      "You can speed up encoding detection significantly by installing the\\n<a class=\"reference external\" href=\"http://pypi.python.org/pypi/cchardet/\">cchardet</a> library.\n",
      "<a class=\"reference internal\" href=\"#parsing-only-part-of-a-document\">Parsing only part of a document</a> won&#8217;t save you much time parsing\\nthe document, but it can save a lot of memory, and it&#8217;ll make\\n<cite>searching</cite> the document much faster.\n",
      "Beautiful Soup 3 is the previous release series, and is no longer\\nbeing actively developed. It&#8217;s currently packaged with all major Linux\\ndistributions:\n",
      "<code class=\"kbd docutils literal\"><span class=\"pre\">$</span> <span class=\"pre\">apt-get</span> <span class=\"pre\">install</span> <span class=\"pre\">python-beautifulsoup</span></code>\n",
      "It&#8217;s also published through PyPi as <code class=\"docutils literal\"><span class=\"pre\">BeautifulSoup</span></code>.:\n",
      "<code class=\"kbd docutils literal\"><span class=\"pre\">$</span> <span class=\"pre\">easy_install</span> <span class=\"pre\">BeautifulSoup</span></code>\n",
      "<code class=\"kbd docutils literal\"><span class=\"pre\">$</span> <span class=\"pre\">pip</span> <span class=\"pre\">install</span> <span class=\"pre\">BeautifulSoup</span></code>\n",
      "You can also <a class=\"reference external\" href=\"http://www.crummy.com/software/BeautifulSoup/bs3/download/3.x/BeautifulSoup-3.2.0.tar.gz\">download a tarball of Beautiful Soup 3.2.0</a>.\n",
      "If you ran <code class=\"docutils literal\"><span class=\"pre\">easy_install</span> <span class=\"pre\">beautifulsoup</span></code> or <code class=\"docutils literal\"><span class=\"pre\">easy_install</span>\\n<span class=\"pre\">BeautifulSoup</span></code>, but your code doesn&#8217;t work, you installed Beautiful\\nSoup 3 by mistake. You need to run <code class=\"docutils literal\"><span class=\"pre\">easy_install</span> <span class=\"pre\">beautifulsoup4</span></code>.\n",
      "<a class=\"reference external\" href=\"http://www.crummy.com/software/BeautifulSoup/bs3/documentation.html\">The documentation for Beautiful Soup 3 is archived online</a>.\n",
      "Most code written against Beautiful Soup 3 will work against Beautiful\\nSoup 4 with one simple change. All you should have to do is change the\\npackage name from <code class=\"docutils literal\"><span class=\"pre\">BeautifulSoup</span></code> to <code class=\"docutils literal\"><span class=\"pre\">bs4</span></code>. So this:\n",
      "becomes this:\n",
      "Although BS4 is mostly backwards-compatible with BS3, most of its\\nmethods have been deprecated and given new names for <a class=\"reference external\" href=\"http://www.python.org/dev/peps/pep-0008/\">PEP 8 compliance</a>. There are numerous other\\nrenames and changes, and a few of them break backwards compatibility.\n",
      "Here&#8217;s what you&#8217;ll need to know to convert your BS3 code and habits to BS4:\n",
      "Beautiful Soup 3 used Python&#8217;s <code class=\"docutils literal\"><span class=\"pre\">SGMLParser</span></code>, a module that was\\ndeprecated and removed in Python 3.0. Beautiful Soup 4 uses\\n<code class=\"docutils literal\"><span class=\"pre\">html.parser</span></code> by default, but you can plug in lxml or html5lib and\\nuse that instead. See <a class=\"reference internal\" href=\"#installing-a-parser\">Installing a parser</a> for a comparison.\n",
      "Since <code class=\"docutils literal\"><span class=\"pre\">html.parser</span></code> is not the same parser as <code class=\"docutils literal\"><span class=\"pre\">SGMLParser</span></code>, you\\nmay find that Beautiful Soup 4 gives you a different parse tree than\\nBeautiful Soup 3 for the same markup. If you swap out <code class=\"docutils literal\"><span class=\"pre\">html.parser</span></code>\\nfor lxml or html5lib, you may find that the parse tree changes yet\\nagain. If this happens, you&#8217;ll need to update your scraping code to\\ndeal with the new tree.\n",
      "Some arguments to the Beautiful Soup constructor were renamed for the\\nsame reasons:\n",
      "I renamed one method for compatibility with Python 3:\n",
      "I renamed one attribute to use more accurate terminology:\n",
      "I renamed three attributes to avoid using words that have special\\nmeaning to Python. Unlike the others, these changes are <em>not backwards\\ncompatible.</em> If you used these attributes in BS3, your code will break\\non BS4 until you change them.\n",
      "I gave the generators PEP 8-compliant names, and transformed them into\\nproperties:\n",
      "So instead of this:\n",
      "You can write this:\n",
      "(But the old code will still work.)\n",
      "Some of the generators used to yield <code class=\"docutils literal\"><span class=\"pre\">None</span></code> after they were done, and\\nthen stop. That was a bug. Now the generators just stop.\n",
      "There are two new generators, <a class=\"reference internal\" href=\"#string-generators\"><span>.strings and\\n.stripped_strings</span></a>. <code class=\"docutils literal\"><span class=\"pre\">.strings</span></code> yields\\nNavigableString objects, and <code class=\"docutils literal\"><span class=\"pre\">.stripped_strings</span></code> yields Python\\nstrings that have had whitespace stripped.\n",
      "There is no longer a <code class=\"docutils literal\"><span class=\"pre\">BeautifulStoneSoup</span></code> class for parsing XML. To\\nparse XML you pass in &#8220;xml&#8221; as the second argument to the\\n<code class=\"docutils literal\"><span class=\"pre\">BeautifulSoup</span></code> constructor. For the same reason, the\\n<code class=\"docutils literal\"><span class=\"pre\">BeautifulSoup</span></code> constructor no longer recognizes the <code class=\"docutils literal\"><span class=\"pre\">isHTML</span></code>\\nargument.\n",
      "Beautiful Soup&#8217;s handling of empty-element XML tags has been\\nimproved. Previously when you parsed XML you had to explicitly say\\nwhich tags were considered empty-element tags. The <code class=\"docutils literal\"><span class=\"pre\">selfClosingTags</span></code>\\nargument to the constructor is no longer recognized. Instead,\\nBeautiful Soup considers any empty tag to be an empty-element tag. If\\nyou add a child to an empty-element tag, it stops being an\\nempty-element tag.\n",
      "An incoming HTML or XML entity is always converted into the\\ncorresponding Unicode character. Beautiful Soup 3 had a number of\\noverlapping ways of dealing with entities, which have been\\nremoved. The <code class=\"docutils literal\"><span class=\"pre\">BeautifulSoup</span></code> constructor no longer recognizes the\\n<code class=\"docutils literal\"><span class=\"pre\">smartQuotesTo</span></code> or <code class=\"docutils literal\"><span class=\"pre\">convertEntities</span></code> arguments. (<a class=\"reference internal\" href=\"#unicode-dammit\">Unicode,\\nDammit</a> still has <code class=\"docutils literal\"><span class=\"pre\">smart_quotes_to</span></code>, but its default is now to turn\\nsmart quotes into Unicode.) The constants <code class=\"docutils literal\"><span class=\"pre\">HTML_ENTITIES</span></code>,\\n<code class=\"docutils literal\"><span class=\"pre\">XML_ENTITIES</span></code>, and <code class=\"docutils literal\"><span class=\"pre\">XHTML_ENTITIES</span></code> have been removed, since they\\nconfigure a feature (transforming some but not all entities into\\nUnicode characters) that no longer exists.\n",
      "If you want to turn Unicode characters back into HTML entities on\\noutput, rather than turning them into UTF-8 characters, you need to\\nuse an <a class=\"reference internal\" href=\"#output-formatters\"><span>output formatter</span></a>.\n",
      "<a class=\"reference internal\" href=\"#string\"><span>Tag.string</span></a> now operates recursively. If tag A\\ncontains a single tag B and nothing else, then A.string is the same as\\nB.string. (Previously, it was None.)\n",
      "<a class=\"reference internal\" href=\"#multi-valued-attributes\">Multi-valued attributes</a> like <code class=\"docutils literal\"><span class=\"pre\">class</span></code> have lists of strings as\\ntheir values, not strings. This may affect the way you search by CSS\\nclass.\n",
      "If you pass one of the <code class=\"docutils literal\"><span class=\"pre\">find*</span></code> methods both <a class=\"reference internal\" href=\"#id12\"><span>string</span></a> <cite>and</cite>\\na tag-specific argument like <a class=\"reference internal\" href=\"#id11\"><span>name</span></a>, Beautiful Soup will\\nsearch for tags that match your tag-specific criteria and whose\\n<a class=\"reference internal\" href=\"#string\"><span>Tag.string</span></a> matches your value for <a class=\"reference internal\" href=\"#id12\"><span>string</span></a>. It will <cite>not</cite> find the strings themselves. Previously,\\nBeautiful Soup ignored the tag-specific arguments and looked for\\nstrings.\n",
      "The <code class=\"docutils literal\"><span class=\"pre\">BeautifulSoup</span></code> constructor no longer recognizes the\\n<cite>markupMassage</cite> argument. It&#8217;s now the parser&#8217;s responsibility to\\nhandle markup correctly.\n",
      "The rarely-used alternate parser classes like\\n<code class=\"docutils literal\"><span class=\"pre\">ICantBelieveItsBeautifulSoup</span></code> and <code class=\"docutils literal\"><span class=\"pre\">BeautifulSOAP</span></code> have been\\nremoved. It&#8217;s now the parser&#8217;s decision how to handle ambiguous\\nmarkup.\n",
      "The <code class=\"docutils literal\"><span class=\"pre\">prettify()</span></code> method now returns a Unicode string, not a bytestring.\n"
     ]
    }
   ],
   "source": [
    "for p in paragraphs:\n",
    "    print(p)"
   ]
  },
  {
   "cell_type": "code",
   "execution_count": 15,
   "metadata": {},
   "outputs": [],
   "source": [
    "#Now let's see the power of nltk\n",
    "import nltk\n",
    "from bs4 import BeautifulSoup"
   ]
  },
  {
   "cell_type": "code",
   "execution_count": 16,
   "metadata": {},
   "outputs": [],
   "source": [
    "#clean will have entire string removing all html tags\n",
    "soup = BeautifulSoup(html,'html.parser')\n",
    "text = soup.get_text()"
   ]
  },
  {
   "cell_type": "code",
   "execution_count": 17,
   "metadata": {},
   "outputs": [
    {
     "name": "stdout",
     "output_type": "stream",
     "text": [
      "['Beautiful', 'Soup', 'Documentation', '—', 'Beautiful', 'Soup', '4.4.0', 'documentation', 'var', 'DOCUMENTATION_OPTIONS', '=', '{', 'URL_ROOT:', \"'./',\", 'VERSION:', \"'4.4.0',\", 'COLLAPSE_INDEX:', 'false,', 'FILE_SUFFIX:', \"'.html',\", 'HAS_SOURCE:', 'true', '};', 'Navigation', 'index', 'Beautiful', 'Soup', '4.4.0', 'documentation', '»', 'Beautiful', 'Soup', 'Documentation¶', 'Beautiful', 'Soup', 'is', 'a', 'Python', 'library', 'for', 'pulling', 'data', 'out', 'of', 'HTML', 'and', 'XML', 'files.', 'It', 'works', 'with', 'your', 'favorite', 'parser', 'to', 'provide', 'idiomatic', 'ways', 'of', 'navigating,', 'searching,', 'and', 'modifying', 'the', 'parse', 'tree.', 'It', 'commonly', 'saves', 'programmers', 'hours', 'or', 'days', 'of', 'work.', 'These', 'instructions', 'illustrate', 'all', 'major', 'features', 'of', 'Beautiful', 'Soup', '4,', 'with', 'examples.', 'I', 'show', 'you', 'what', 'the', 'library', 'is', 'good', 'for,', 'how', 'it', 'works,', 'how']\n"
     ]
    }
   ],
   "source": [
    "tokens = [t for t in text.split()]\n",
    "print(tokens[:100])"
   ]
  },
  {
   "cell_type": "markdown",
   "metadata": {},
   "source": [
    "## Calculating the frequency distribution of each word"
   ]
  },
  {
   "cell_type": "code",
   "execution_count": 18,
   "metadata": {},
   "outputs": [],
   "source": [
    "import operator"
   ]
  },
  {
   "cell_type": "code",
   "execution_count": 19,
   "metadata": {},
   "outputs": [],
   "source": [
    "freq={}\n",
    "for i in tokens:\n",
    "    if i in freq:\n",
    "        freq[i] += 1\n",
    "    else:\n",
    "        freq[i] = 1"
   ]
  },
  {
   "cell_type": "code",
   "execution_count": 20,
   "metadata": {},
   "outputs": [],
   "source": [
    "#sorting the dictionary of values:\n",
    "sorted_freq = sorted(freq.items(), key=operator.itemgetter(1),reverse=True)"
   ]
  },
  {
   "cell_type": "code",
   "execution_count": 21,
   "metadata": {},
   "outputs": [
    {
     "name": "stdout",
     "output_type": "stream",
     "text": [
      "[('the', 591), ('#', 505), ('a', 375), ('to', 239), ('and', 225), ('of', 205), ('you', 195), ('in', 156), ('Beautiful', 150), ('is', 146), ('=', 138), ('Soup', 134), ('that', 129), ('tag', 121), ('class=\"sister\"', 111), ('can', 94), ('<a', 92), ('The', 91), ('it', 88), ('for', 85), ('If', 84), ('or', 83), ('as', 79), ('document', 76), ('but', 63), (\"Dormouse's\", 61), ('with', 60), ('You', 60), ('an', 57), ('are', 53)]\n"
     ]
    }
   ],
   "source": [
    "print(sorted_freq[:30])"
   ]
  },
  {
   "cell_type": "markdown",
   "metadata": {},
   "source": [
    "## Using NLTK"
   ]
  },
  {
   "cell_type": "code",
   "execution_count": 22,
   "metadata": {},
   "outputs": [],
   "source": [
    "freq_nltk = nltk.FreqDist(tokens)"
   ]
  },
  {
   "cell_type": "code",
   "execution_count": 23,
   "metadata": {},
   "outputs": [
    {
     "name": "stdout",
     "output_type": "stream",
     "text": [
      "<FreqDist with 3112 samples and 13723 outcomes>\n"
     ]
    }
   ],
   "source": [
    "print(freq_nltk)"
   ]
  },
  {
   "cell_type": "code",
   "execution_count": 25,
   "metadata": {},
   "outputs": [
    {
     "data": {
      "text/plain": [
       "[('the', 583),\n",
       " ('#', 503),\n",
       " ('a', 368),\n",
       " ('to', 237),\n",
       " ('and', 224),\n",
       " ('of', 200),\n",
       " ('you', 190),\n",
       " ('in', 147),\n",
       " ('Beautiful', 146),\n",
       " ('is', 146),\n",
       " ('=', 134),\n",
       " ('Soup', 130),\n",
       " ('that', 128),\n",
       " ('tag', 123),\n",
       " ('class=\"sister\"', 111),\n",
       " ('<a', 92),\n",
       " ('can', 92),\n",
       " ('The', 90),\n",
       " ('it', 89),\n",
       " ('for', 84)]"
      ]
     },
     "execution_count": 25,
     "metadata": {},
     "output_type": "execute_result"
    }
   ],
   "source": [
    "freq_nltk.most_common(20)"
   ]
  },
  {
   "cell_type": "code",
   "execution_count": 24,
   "metadata": {},
   "outputs": [
    {
     "data": {
      "text/plain": [
       "150"
      ]
     },
     "execution_count": 24,
     "metadata": {},
     "output_type": "execute_result"
    }
   ],
   "source": [
    "freq_nltk['Beautiful']"
   ]
  },
  {
   "cell_type": "markdown",
   "metadata": {},
   "source": [
    "## Plotting the frequency:"
   ]
  },
  {
   "cell_type": "code",
   "execution_count": 25,
   "metadata": {},
   "outputs": [
    {
     "data": {
      "image/png": "[encoded data removed]",
      "text/plain": [
       "<Figure size 432x288 with 1 Axes>"
      ]
     },
     "metadata": {
      "needs_background": "light"
     },
     "output_type": "display_data"
    }
   ],
   "source": [
    "freq_nltk.plot(25, cumulative=True)"
   ]
  },
  {
   "cell_type": "code",
   "execution_count": 26,
   "metadata": {},
   "outputs": [
    {
     "data": {
      "image/png": "[encoded data removed]",
      "text/plain": [
       "<Figure size 432x288 with 1 Axes>"
      ]
     },
     "metadata": {
      "needs_background": "light"
     },
     "output_type": "display_data"
    }
   ],
   "source": [
    "freq_nltk.plot(25, cumulative=False)"
   ]
  },
  {
   "cell_type": "markdown",
   "metadata": {},
   "source": [
    "## Removing stop words: "
   ]
  },
  {
   "cell_type": "code",
   "execution_count": 28,
   "metadata": {},
   "outputs": [
    {
     "data": {
      "text/plain": [
       "['!!',\n",
       " '?!',\n",
       " '??',\n",
       " '!?',\n",
       " '`',\n",
       " '``',\n",
       " \"''\",\n",
       " '-lrb-',\n",
       " '-rrb-',\n",
       " '-lsb-',\n",
       " '-rsb-',\n",
       " ',',\n",
       " '.',\n",
       " ':',\n",
       " ';',\n",
       " '\"',\n",
       " \"'\",\n",
       " '?',\n",
       " '<',\n",
       " '>',\n",
       " '{',\n",
       " '}',\n",
       " '[',\n",
       " ']',\n",
       " '+',\n",
       " '-',\n",
       " '(',\n",
       " ')',\n",
       " '&',\n",
       " '%',\n",
       " '$',\n",
       " '@',\n",
       " '!',\n",
       " '^',\n",
       " '#',\n",
       " '*',\n",
       " '..',\n",
       " '...',\n",
       " \"'ll\",\n",
       " \"'s\",\n",
       " \"'m\",\n",
       " 'a',\n",
       " 'about',\n",
       " 'above',\n",
       " 'after',\n",
       " 'again',\n",
       " 'against',\n",
       " 'all',\n",
       " 'am',\n",
       " 'an',\n",
       " 'and',\n",
       " 'any',\n",
       " 'are',\n",
       " \"aren't\",\n",
       " 'as',\n",
       " 'at',\n",
       " 'be',\n",
       " 'because',\n",
       " 'been',\n",
       " 'before',\n",
       " 'being',\n",
       " 'below',\n",
       " 'between',\n",
       " 'both',\n",
       " 'but',\n",
       " 'by',\n",
       " 'can',\n",
       " \"can't\",\n",
       " 'cannot',\n",
       " 'could',\n",
       " \"couldn't\",\n",
       " 'did',\n",
       " \"didn't\",\n",
       " 'do',\n",
       " 'does',\n",
       " \"doesn't\",\n",
       " 'doing',\n",
       " \"don't\",\n",
       " 'down',\n",
       " 'during',\n",
       " 'each',\n",
       " 'few',\n",
       " 'for',\n",
       " 'from',\n",
       " 'further',\n",
       " 'had',\n",
       " \"hadn't\",\n",
       " 'has',\n",
       " \"hasn't\",\n",
       " 'have',\n",
       " \"haven't\",\n",
       " 'having',\n",
       " 'he',\n",
       " \"he'd\",\n",
       " \"he'll\",\n",
       " \"he's\",\n",
       " 'her',\n",
       " 'here',\n",
       " \"here's\",\n",
       " 'hers',\n",
       " 'herself',\n",
       " 'him',\n",
       " 'himself',\n",
       " 'his',\n",
       " 'how',\n",
       " \"how's\",\n",
       " 'i',\n",
       " \"i'd\",\n",
       " \"i'll\",\n",
       " \"i'm\",\n",
       " \"i've\",\n",
       " 'if',\n",
       " 'in',\n",
       " 'into',\n",
       " 'is',\n",
       " \"isn't\",\n",
       " 'it',\n",
       " \"it's\",\n",
       " 'its',\n",
       " 'itself',\n",
       " \"let's\",\n",
       " 'me',\n",
       " 'more',\n",
       " 'most',\n",
       " \"mustn't\",\n",
       " 'my',\n",
       " 'myself',\n",
       " 'no',\n",
       " 'nor',\n",
       " 'not',\n",
       " 'of',\n",
       " 'off',\n",
       " 'on',\n",
       " 'once',\n",
       " 'only',\n",
       " 'or',\n",
       " 'other',\n",
       " 'ought',\n",
       " 'our',\n",
       " 'ours',\n",
       " 'ourselves',\n",
       " 'out',\n",
       " 'over',\n",
       " 'own',\n",
       " 'same',\n",
       " \"shan't\",\n",
       " 'she',\n",
       " \"she'd\",\n",
       " \"she'll\",\n",
       " \"she's\",\n",
       " 'should',\n",
       " \"shouldn't\",\n",
       " 'so',\n",
       " 'some',\n",
       " 'such',\n",
       " 'than',\n",
       " 'that',\n",
       " \"that's\",\n",
       " 'the',\n",
       " 'their',\n",
       " 'theirs',\n",
       " 'them',\n",
       " 'themselves',\n",
       " 'then',\n",
       " 'there',\n",
       " \"there's\",\n",
       " 'these',\n",
       " 'they',\n",
       " \"they'd\",\n",
       " \"they'll\",\n",
       " \"they're\",\n",
       " \"they've\",\n",
       " 'this',\n",
       " 'those',\n",
       " 'through',\n",
       " 'to',\n",
       " 'too',\n",
       " 'under',\n",
       " 'until',\n",
       " 'up',\n",
       " 'very',\n",
       " 'was',\n",
       " \"wasn't\",\n",
       " 'we',\n",
       " \"we'd\",\n",
       " \"we'll\",\n",
       " \"we're\",\n",
       " \"we've\",\n",
       " 'were',\n",
       " \"weren't\",\n",
       " 'what',\n",
       " \"what's\",\n",
       " 'when',\n",
       " \"when's\",\n",
       " 'where',\n",
       " \"where's\",\n",
       " 'which',\n",
       " 'while',\n",
       " 'who',\n",
       " \"who's\",\n",
       " 'whom',\n",
       " 'why',\n",
       " \"why's\",\n",
       " 'with',\n",
       " \"won't\",\n",
       " 'would',\n",
       " \"wouldn't\",\n",
       " 'you',\n",
       " \"you'd\",\n",
       " \"you'll\",\n",
       " \"you're\",\n",
       " \"you've\",\n",
       " 'your',\n",
       " 'yours',\n",
       " 'yourself',\n",
       " 'yourselves',\n",
       " '###',\n",
       " 'return',\n",
       " 'arent',\n",
       " 'cant',\n",
       " 'couldnt',\n",
       " 'didnt',\n",
       " 'doesnt',\n",
       " 'dont',\n",
       " 'hadnt',\n",
       " 'hasnt',\n",
       " 'havent',\n",
       " 'hes',\n",
       " 'heres',\n",
       " 'hows',\n",
       " 'im',\n",
       " 'isnt',\n",
       " 'its',\n",
       " 'lets',\n",
       " 'mustnt',\n",
       " 'shant',\n",
       " 'shes',\n",
       " 'shouldnt',\n",
       " 'thats',\n",
       " 'theres',\n",
       " 'theyll',\n",
       " 'theyre',\n",
       " 'theyve',\n",
       " 'wasnt',\n",
       " 'were',\n",
       " 'werent',\n",
       " 'whats',\n",
       " 'whens',\n",
       " 'wheres',\n",
       " 'whos',\n",
       " 'whys',\n",
       " 'wont',\n",
       " 'wouldnt',\n",
       " 'youd',\n",
       " 'youll',\n",
       " 'youre',\n",
       " 'youve']"
      ]
     },
     "execution_count": 28,
     "metadata": {},
     "output_type": "execute_result"
    }
   ],
   "source": [
    "#Stop words are useless words like the, a, in, an, or and so on.\n",
    "stopwords = [word.strip().lower() for word in open(\"../Data/ENstopwords.txt\")]\n",
    "stopwords"
   ]
  },
  {
   "cell_type": "code",
   "execution_count": 29,
   "metadata": {},
   "outputs": [],
   "source": [
    "clean_ = [t for t in tokens if len(t.lower())>1 and (t.lower() not in stopwords)]"
   ]
  },
  {
   "cell_type": "code",
   "execution_count": 30,
   "metadata": {},
   "outputs": [],
   "source": [
    "_freq_nltk = nltk.FreqDist(clean_)"
   ]
  },
  {
   "cell_type": "code",
   "execution_count": 31,
   "metadata": {},
   "outputs": [
    {
     "data": {
      "image/png": "[encoded data removed]",
      "text/plain": [
       "<Figure size 432x288 with 1 Axes>"
      ]
     },
     "metadata": {
      "needs_background": "light"
     },
     "output_type": "display_data"
    }
   ],
   "source": [
    "_freq_nltk.plot(25, cumulative=False)"
   ]
  },
  {
   "cell_type": "code",
   "execution_count": 32,
   "metadata": {
    "scrolled": true
   },
   "outputs": [
    {
     "data": {
      "text/plain": [
       "[('Beautiful', 150),\n",
       " ('Soup', 134),\n",
       " ('tag', 121),\n",
       " ('class=\"sister\"', 111),\n",
       " ('<a', 92),\n",
       " ('document', 76),\n",
       " (\"Dormouse's\", 61),\n",
       " ('string', 52),\n",
       " ('will', 50),\n",
       " ('Python', 47),\n",
       " ('HTML', 46),\n",
       " ('use', 46),\n",
       " ('BeautifulSoup', 44),\n",
       " ('parser', 43),\n",
       " ('href=\"http://example.com/elsie\"', 43),\n",
       " ('soup', 41),\n",
       " ('tags', 38),\n",
       " ('href=\"http://example.com/lacie\"', 37),\n",
       " ('like', 36),\n",
       " ('[<a', 34)]"
      ]
     },
     "execution_count": 32,
     "metadata": {},
     "output_type": "execute_result"
    }
   ],
   "source": [
    "_freq_nltk.most_common(20)"
   ]
  },
  {
   "cell_type": "markdown",
   "metadata": {},
   "source": [
    "## Reference: \n",
    "http://www.nltk.org/\n",
    "\n",
    "http://www.nltk.org/nltk_data/\n",
    "\n",
    "https://www.crummy.com/software/BeautifulSoup/bs4/doc/"
   ]
  }
 ],
 "metadata": {
  "kernelspec": {
   "display_name": "Python 3",
   "language": "python",
   "name": "python3"
  },
  "language_info": {
   "codemirror_mode": {
    "name": "ipython",
    "version": 3
   },
   "file_extension": ".py",
   "mimetype": "text/x-python",
   "name": "python",
   "nbconvert_exporter": "python",
   "pygments_lexer": "ipython3",
   "version": "3.6.8"
  }
 },
 "nbformat": 4,
 "nbformat_minor": 2
}
