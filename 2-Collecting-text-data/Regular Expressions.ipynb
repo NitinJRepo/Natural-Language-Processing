{
 "cells": [
  {
   "cell_type": "markdown",
   "metadata": {
    "collapsed": true
   },
   "source": [
    "\n",
    "<center><u><H1>Regular Expressions</H1></u></center>\n",
    "<br>\n",
    "<h4>A regular expression is a sequence of characters that define a search pattern.<br><br>\n",
    "Regular expressions are used:<br><br>\n",
    "- To check whether the values entered in HTML for are valid or not. For example: email address.<br>\n",
    "- To look for a pattern appereance in a piece of text.<br>\n",
    "- To extract a specific portion of a text. Example: the postal code or area code of an address.<br>\n",
    "- To replace portions of a text for creating new text content.<br>\n",
    "- To split a larger text into smaller pieces etc.<br></h4>"
   ]
  },
  {
   "cell_type": "code",
   "execution_count": 1,
   "metadata": {},
   "outputs": [],
   "source": [
    "import re"
   ]
  },
  {
   "cell_type": "markdown",
   "metadata": {},
   "source": [
    "## Matching and Searching for Text Patterns"
   ]
  },
  {
   "cell_type": "code",
   "execution_count": 2,
   "metadata": {},
   "outputs": [],
   "source": [
    "#match checks for a match only at the beginning of the string, while search checks for a match anywhere in the string"
   ]
  },
  {
   "cell_type": "code",
   "execution_count": 2,
   "metadata": {},
   "outputs": [],
   "source": [
    "txt = \"The Universe is so big! and the time is so old!!\""
   ]
  },
  {
   "cell_type": "code",
   "execution_count": 4,
   "metadata": {},
   "outputs": [
    {
     "data": {
      "text/plain": [
       "False"
      ]
     },
     "execution_count": 4,
     "metadata": {},
     "output_type": "execute_result"
    }
   ],
   "source": [
    "txt.startswith('Universe')"
   ]
  },
  {
   "cell_type": "code",
   "execution_count": 5,
   "metadata": {},
   "outputs": [
    {
     "data": {
      "text/plain": [
       "True"
      ]
     },
     "execution_count": 5,
     "metadata": {},
     "output_type": "execute_result"
    }
   ],
   "source": [
    "txt.endswith('old!!')"
   ]
  },
  {
   "cell_type": "code",
   "execution_count": 6,
   "metadata": {},
   "outputs": [
    {
     "name": "stdout",
     "output_type": "stream",
     "text": [
      "I found the word the\n"
     ]
    }
   ],
   "source": [
    "#re.search(pattern, string, flags=0)\n",
    "if re.search('the',txt):\n",
    "    print(\"I found the word the\")\n",
    "else:\n",
    "    print(\"I didnt found coincidences\")"
   ]
  },
  {
   "cell_type": "code",
   "execution_count": 11,
   "metadata": {},
   "outputs": [
    {
     "data": {
      "text/plain": [
       "'is'"
      ]
     },
     "execution_count": 11,
     "metadata": {},
     "output_type": "execute_result"
    }
   ],
   "source": [
    "#match objects\n",
    "# r is for raw text and do not interpret the \\ character as an escape character\n",
    "match = re.search(r'is', txt)\n",
    "match.group()"
   ]
  },
  {
   "cell_type": "code",
   "execution_count": 12,
   "metadata": {},
   "outputs": [
    {
     "name": "stdout",
     "output_type": "stream",
     "text": [
      "['!', '!', '!']\n"
     ]
    }
   ],
   "source": [
    "# finding more than one match\n",
    "print(re.findall(\"!\",txt))"
   ]
  },
  {
   "cell_type": "code",
   "execution_count": 15,
   "metadata": {},
   "outputs": [
    {
     "name": "stdout",
     "output_type": "stream",
     "text": [
      "['The', 'the']\n"
     ]
    }
   ],
   "source": [
    "#The regular expression[Tt] will match either The or the.\n",
    "print(re.findall(r'[tT]he',txt)) # matches a set of characters within the brackets."
   ]
  },
  {
   "cell_type": "code",
   "execution_count": 16,
   "metadata": {},
   "outputs": [
    {
     "data": {
      "text/plain": [
       "'The'"
      ]
     },
     "execution_count": 16,
     "metadata": {},
     "output_type": "execute_result"
    }
   ],
   "source": [
    "#using match function\n",
    "match_=re.match( r'[Tt]he', txt, re.M|re.I)\n",
    "match_.group()"
   ]
  },
  {
   "cell_type": "code",
   "execution_count": 19,
   "metadata": {},
   "outputs": [
    {
     "name": "stdout",
     "output_type": "stream",
     "text": [
      "Universe\n"
     ]
    }
   ],
   "source": [
    "match_=re.search( r'universe', txt, re.I)\n",
    "if match_:\n",
    "    print(match_.group())\n",
    "else:\n",
    "    print(\"I didnt found coincidences\")"
   ]
  },
  {
   "cell_type": "code",
   "execution_count": 20,
   "metadata": {},
   "outputs": [
    {
     "name": "stdout",
     "output_type": "stream",
     "text": [
      "['8', '0', '0', '1', '4', '5', '6', '2', '1', '7']\n"
     ]
    }
   ],
   "source": [
    "txt1 = 'My mobile number is 800-1-456217'\n",
    "print(re.findall(\"\\d\",txt1)) #matches any decimal digit[0-9]"
   ]
  },
  {
   "cell_type": "code",
   "execution_count": 22,
   "metadata": {},
   "outputs": [
    {
     "name": "stdout",
     "output_type": "stream",
     "text": [
      "['M', 'y', 'm', 'o', 'b', 'i', 'l', 'e', 'n', 'u', 'm', 'b', 'e', 'r', 'i', 's', '8', '0', '0', '-', '1', '-', '4', '5', '6', '2', '1', '7']\n"
     ]
    }
   ],
   "source": [
    "print(re.findall(\"\\S\",txt1)) #matches any non-whitespace character "
   ]
  },
  {
   "cell_type": "code",
   "execution_count": 23,
   "metadata": {},
   "outputs": [
    {
     "name": "stdout",
     "output_type": "stream",
     "text": [
      "['Car', 'Car']\n"
     ]
    }
   ],
   "source": [
    "txt2 = \"Cars are very useful and my Car is very fast\"\n",
    "print(re.findall(\"Car?\",txt2)) "
   ]
  },
  {
   "cell_type": "code",
   "execution_count": 24,
   "metadata": {},
   "outputs": [
    {
     "name": "stdout",
     "output_type": "stream",
     "text": [
      "['Cars', 'Car']\n"
     ]
    }
   ],
   "source": [
    "print(re.findall(\"Cars|Car\",txt2))"
   ]
  },
  {
   "cell_type": "code",
   "execution_count": 25,
   "metadata": {},
   "outputs": [
    {
     "name": "stdout",
     "output_type": "stream",
     "text": [
      "['!', '!!!!', '?', '?']\n"
     ]
    }
   ],
   "source": [
    "#\"Python\" followed by one or more ! or one ?\n",
    "txt3 = 'Python!, python!!!!, Python??, PYTHON?????'\n",
    "print(re.findall(\"Python(!+|\\?)\",txt3, flags=re.IGNORECASE))"
   ]
  },
  {
   "cell_type": "markdown",
   "metadata": {},
   "source": [
    "## Search and replace:"
   ]
  },
  {
   "cell_type": "code",
   "execution_count": 28,
   "metadata": {},
   "outputs": [
    {
     "name": "stdout",
     "output_type": "stream",
     "text": [
      "Phone Number :  2004-959-559 \n"
     ]
    }
   ],
   "source": [
    "#re.sub(pattern, repl, string, max=0)\n",
    "phone = \"2004-959-559 # This is my phone number\"\n",
    "\n",
    "# Delete Python comments\n",
    "number = re.sub(r'#.*$', \"\", phone)\n",
    "print(\"Phone Number : \", number)"
   ]
  },
  {
   "cell_type": "code",
   "execution_count": 29,
   "metadata": {},
   "outputs": [
    {
     "name": "stdout",
     "output_type": "stream",
     "text": [
      "Phone Number :  2004959559\n"
     ]
    }
   ],
   "source": [
    "# Remove anything other than digits\n",
    "number = re.sub(r'\\D', \"\", phone)    \n",
    "print(\"Phone Number : \", number)"
   ]
  },
  {
   "cell_type": "markdown",
   "metadata": {},
   "source": [
    "## Searching and Replacing Case-Insensitive text"
   ]
  },
  {
   "cell_type": "code",
   "execution_count": 30,
   "metadata": {},
   "outputs": [
    {
     "data": {
      "text/plain": [
       "['PYTHON', 'python', 'Python']"
      ]
     },
     "execution_count": 30,
     "metadata": {},
     "output_type": "execute_result"
    }
   ],
   "source": [
    "text4 = 'BLACK HAT PYTHON, advance python, deep Python'\n",
    "re.findall('python', text4, flags=re.IGNORECASE)"
   ]
  },
  {
   "cell_type": "code",
   "execution_count": 31,
   "metadata": {},
   "outputs": [
    {
     "data": {
      "text/plain": [
       "'BLACK HAT NLTK, advance NLTK, deep NLTK'"
      ]
     },
     "execution_count": 31,
     "metadata": {},
     "output_type": "execute_result"
    }
   ],
   "source": [
    "re.sub('python', 'NLTK',text4, flags=re.IGNORECASE)"
   ]
  },
  {
   "cell_type": "markdown",
   "metadata": {},
   "source": [
    "## Reference:\n",
    "\n",
    "https://en.wikipedia.org/wiki/Regular_expression\n",
    "\n",
    "https://docs.python.org/2/library/re.html\n",
    "\n",
    "https://docs.python.org/2/howto/regex.html"
   ]
  }
 ],
 "metadata": {
  "kernelspec": {
   "display_name": "Python 3",
   "language": "python",
   "name": "python3"
  },
  "language_info": {
   "codemirror_mode": {
    "name": "ipython",
    "version": 3
   },
   "file_extension": ".py",
   "mimetype": "text/x-python",
   "name": "python",
   "nbconvert_exporter": "python",
   "pygments_lexer": "ipython3",
   "version": "3.6.8"
  }
 },
 "nbformat": 4,
 "nbformat_minor": 2
}
