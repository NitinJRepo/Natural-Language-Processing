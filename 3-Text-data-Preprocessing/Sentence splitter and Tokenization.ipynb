{
 "cells": [
  {
   "cell_type": "markdown",
   "metadata": {},
   "source": [
    "<center><u><H1>Sentence splitter and Tokenization</H1></u></center>"
   ]
  },
  {
   "cell_type": "markdown",
   "metadata": {},
   "source": [
    "## Sentence splitter:"
   ]
  },
  {
   "cell_type": "code",
   "execution_count": 1,
   "metadata": {},
   "outputs": [],
   "source": [
    "string = 'Every one of us is, in the cosmic perspective, precious. If a human disagrees with you, let him live. In a hundred billion galaxies, you will not find another.'"
   ]
  },
  {
   "cell_type": "code",
   "execution_count": 2,
   "metadata": {},
   "outputs": [],
   "source": [
    "# Method-1: Using nltk sent_tokenize\n",
    "\n",
    "from nltk.tokenize import sent_tokenize"
   ]
  },
  {
   "cell_type": "code",
   "execution_count": 4,
   "metadata": {},
   "outputs": [],
   "source": [
    "_sent = sent_tokenize(string)"
   ]
  },
  {
   "cell_type": "code",
   "execution_count": 4,
   "metadata": {},
   "outputs": [
    {
     "name": "stdout",
     "output_type": "stream",
     "text": [
      "['Every one of us is, in the cosmic perspective, precious.', 'If a human disagrees with you, let him live.', 'In a hundred billion galaxies, you will not find another.']\n"
     ]
    }
   ],
   "source": [
    "print(_sent)"
   ]
  },
  {
   "cell_type": "code",
   "execution_count": 5,
   "metadata": {},
   "outputs": [],
   "source": [
    "# Method-2: Using nltk punkt tokenizer\n",
    "\n",
    "import nltk.tokenize.punkt\n",
    "#This tokenizer divides a text into a list of sentences,\n",
    "#by using an unsupervised algorithm to build a model for abbreviation\n",
    "#words, collocations, and words that start sentences. "
   ]
  },
  {
   "cell_type": "code",
   "execution_count": 6,
   "metadata": {},
   "outputs": [],
   "source": [
    "tokenizer = nltk.tokenize.punkt.PunktSentenceTokenizer()"
   ]
  },
  {
   "cell_type": "code",
   "execution_count": 7,
   "metadata": {},
   "outputs": [
    {
     "data": {
      "text/plain": [
       "['Every one of us is, in the cosmic perspective, precious.',\n",
       " 'If a human disagrees with you, let him live.',\n",
       " 'In a hundred billion galaxies, you will not find another.']"
      ]
     },
     "execution_count": 7,
     "metadata": {},
     "output_type": "execute_result"
    }
   ],
   "source": [
    "tokenizer.tokenize(string)"
   ]
  },
  {
   "cell_type": "markdown",
   "metadata": {},
   "source": [
    "## Tokenization:"
   ]
  },
  {
   "cell_type": "markdown",
   "metadata": {},
   "source": [
    "### Word Tokenizing:"
   ]
  },
  {
   "cell_type": "code",
   "execution_count": 8,
   "metadata": {},
   "outputs": [],
   "source": [
    "a = 'Hi NLTK students ! level s10'"
   ]
  },
  {
   "cell_type": "code",
   "execution_count": 9,
   "metadata": {},
   "outputs": [
    {
     "name": "stdout",
     "output_type": "stream",
     "text": [
      "['Hi', 'NLTK', 'students', '!', 'level', 's10']\n"
     ]
    }
   ],
   "source": [
    "# Method-1: simplest tokenizer: uses white space as delimiter.\n",
    "print(a.split())"
   ]
  },
  {
   "cell_type": "code",
   "execution_count": 10,
   "metadata": {},
   "outputs": [],
   "source": [
    "# Method-2: \n",
    "from nltk.tokenize import word_tokenize"
   ]
  },
  {
   "cell_type": "code",
   "execution_count": 11,
   "metadata": {},
   "outputs": [
    {
     "data": {
      "text/plain": [
       "['Hi', 'NLTK', 'students', '!', 'level', 's10']"
      ]
     },
     "execution_count": 11,
     "metadata": {},
     "output_type": "execute_result"
    }
   ],
   "source": [
    "word_tokenize(a)"
   ]
  },
  {
   "cell_type": "code",
   "execution_count": 12,
   "metadata": {},
   "outputs": [],
   "source": [
    "## Method-3: Another method using TreebankWorldTokenizer\n",
    "from nltk.tokenize import TreebankWordTokenizer"
   ]
  },
  {
   "cell_type": "code",
   "execution_count": 13,
   "metadata": {},
   "outputs": [
    {
     "name": "stdout",
     "output_type": "stream",
     "text": [
      "['Hi', 'NLTK', 'students', '!', 'level', 's10']\n"
     ]
    }
   ],
   "source": [
    "tokenizer = TreebankWordTokenizer()\n",
    "print(tokenizer.tokenize(a))"
   ]
  },
  {
   "cell_type": "markdown",
   "metadata": {},
   "source": [
    "### Removing Noise"
   ]
  },
  {
   "cell_type": "code",
   "execution_count": 14,
   "metadata": {},
   "outputs": [],
   "source": [
    "#Example of removing numbers:\n",
    "import re\n",
    "\n",
    "def remove_numbers(text):\n",
    "    return re.sub(r'\\d+', \"\", text)"
   ]
  },
  {
   "cell_type": "code",
   "execution_count": 15,
   "metadata": {},
   "outputs": [],
   "source": [
    "txt = 'This a sample sentence in English, \\n with   whitespaces and many numbers 123456!'"
   ]
  },
  {
   "cell_type": "code",
   "execution_count": 16,
   "metadata": {},
   "outputs": [
    {
     "name": "stdout",
     "output_type": "stream",
     "text": [
      "Removed numbers: This a sample sentence in English, \n",
      " with   whitespaces and many numbers !\n"
     ]
    }
   ],
   "source": [
    "print('Removed numbers:', remove_numbers(txt))"
   ]
  },
  {
   "cell_type": "code",
   "execution_count": 17,
   "metadata": {},
   "outputs": [],
   "source": [
    "#Example of removing punctuation from text\n",
    "import string\n",
    "\n",
    "def remove_punctuation(text):\n",
    "    words = word_tokenize(text)\n",
    "    pun_removed = [w for w in words if w.lower() not in string.punctuation]\n",
    "    return \" \".join(pun_removed)"
   ]
  },
  {
   "cell_type": "code",
   "execution_count": 20,
   "metadata": {},
   "outputs": [
    {
     "name": "stdout",
     "output_type": "stream",
     "text": [
      "This is a great course of NLP using Python and NLTK for this year 2017 isnt\n"
     ]
    }
   ],
   "source": [
    "b = 'This is a great course of NLP using Python and NLTK!!! for this year 2017, isnt.?'\n",
    "print(remove_punctuation(b))"
   ]
  },
  {
   "cell_type": "code",
   "execution_count": 25,
   "metadata": {},
   "outputs": [],
   "source": [
    "from nltk.tokenize import regexp_tokenize, wordpunct_tokenize, blankline_tokenize"
   ]
  },
  {
   "cell_type": "code",
   "execution_count": 26,
   "metadata": {},
   "outputs": [
    {
     "data": {
      "text/plain": [
       "['This',\n",
       " 'is',\n",
       " 'a',\n",
       " 'great',\n",
       " 'course',\n",
       " 'of',\n",
       " 'NLP',\n",
       " 'using',\n",
       " 'Python',\n",
       " 'and',\n",
       " 'NLTK',\n",
       " 'for',\n",
       " 'this',\n",
       " 'year',\n",
       " '2017',\n",
       " 'isnt']"
      ]
     },
     "execution_count": 26,
     "metadata": {},
     "output_type": "execute_result"
    }
   ],
   "source": [
    "# + : one or more times | \\w : character or digit\n",
    "regexp_tokenize(b, pattern='\\w+')"
   ]
  },
  {
   "cell_type": "code",
   "execution_count": 27,
   "metadata": {},
   "outputs": [
    {
     "data": {
      "text/plain": [
       "['2017']"
      ]
     },
     "execution_count": 27,
     "metadata": {},
     "output_type": "execute_result"
    }
   ],
   "source": [
    "regexp_tokenize(b, pattern='\\d+')"
   ]
  },
  {
   "cell_type": "code",
   "execution_count": 28,
   "metadata": {},
   "outputs": [],
   "source": [
    "c = 'The capital is raising up to $100000'"
   ]
  },
  {
   "cell_type": "code",
   "execution_count": 29,
   "metadata": {},
   "outputs": [
    {
     "data": {
      "text/plain": [
       "['The', 'capital', 'is', 'raising', 'up', 'to', '$', '100000']"
      ]
     },
     "execution_count": 29,
     "metadata": {},
     "output_type": "execute_result"
    }
   ],
   "source": [
    "regexp_tokenize(c, pattern='\\w+|\\$')"
   ]
  },
  {
   "cell_type": "code",
   "execution_count": 30,
   "metadata": {},
   "outputs": [
    {
     "data": {
      "text/plain": [
       "['The', 'capital', 'is', 'raising', 'up', 'to', '$1', '00000']"
      ]
     },
     "execution_count": 30,
     "metadata": {},
     "output_type": "execute_result"
    }
   ],
   "source": [
    "# + = one or more times\n",
    "regexp_tokenize(c, pattern='\\w+|\\$[\\d]')"
   ]
  },
  {
   "cell_type": "code",
   "execution_count": 31,
   "metadata": {
    "scrolled": true
   },
   "outputs": [
    {
     "data": {
      "text/plain": [
       "['The', 'capital', 'is', 'raising', 'up', 'to', '$100000']"
      ]
     },
     "execution_count": 31,
     "metadata": {},
     "output_type": "execute_result"
    }
   ],
   "source": [
    "regexp_tokenize(c, pattern='\\w+|\\$[\\d\\.]+|\\S+')"
   ]
  },
  {
   "cell_type": "code",
   "execution_count": 32,
   "metadata": {},
   "outputs": [
    {
     "data": {
      "text/plain": [
       "['This',\n",
       " 'is',\n",
       " 'a',\n",
       " 'great',\n",
       " 'course',\n",
       " 'of',\n",
       " 'NLP',\n",
       " 'using',\n",
       " 'Python',\n",
       " 'and',\n",
       " 'NLTK',\n",
       " '!!!',\n",
       " 'for',\n",
       " 'this',\n",
       " 'year',\n",
       " '2017',\n",
       " ',',\n",
       " 'isnt',\n",
       " '.?']"
      ]
     },
     "execution_count": 32,
     "metadata": {},
     "output_type": "execute_result"
    }
   ],
   "source": [
    "wordpunct_tokenize(b)"
   ]
  },
  {
   "cell_type": "code",
   "execution_count": 33,
   "metadata": {},
   "outputs": [
    {
     "data": {
      "text/plain": [
       "['This is a great course of NLP using Python and NLTK!!! for this year 2017, isnt.?']"
      ]
     },
     "execution_count": 33,
     "metadata": {},
     "output_type": "execute_result"
    }
   ],
   "source": [
    "blankline_tokenize(b)"
   ]
  },
  {
   "cell_type": "markdown",
   "metadata": {
    "collapsed": true
   },
   "source": [
    "## References:\n",
    "\n",
    "https://docs.python.org/2/library/tokenize.html\n",
    "\n",
    "http://www.nltk.org/_modules/nltk/tokenize.html\n",
    "\n",
    "http://www.nltk.org/_modules/nltk/tokenize/punkt.html\n",
    "\n",
    "http://www.nltk.org/_modules/nltk/tokenize/treebank.html\n",
    "\n",
    "http://www.nltk.org/_modules/nltk/tokenize/regexp.html"
   ]
  }
 ],
 "metadata": {
  "kernelspec": {
   "display_name": "Python 3",
   "language": "python",
   "name": "python3"
  },
  "language_info": {
   "codemirror_mode": {
    "name": "ipython",
    "version": 3
   },
   "file_extension": ".py",
   "mimetype": "text/x-python",
   "name": "python",
   "nbconvert_exporter": "python",
   "pygments_lexer": "ipython3",
   "version": "3.6.8"
  }
 },
 "nbformat": 4,
 "nbformat_minor": 2
}
